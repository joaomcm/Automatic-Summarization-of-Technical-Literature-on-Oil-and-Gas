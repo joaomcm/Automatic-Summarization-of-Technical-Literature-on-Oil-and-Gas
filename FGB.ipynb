{
 "cells": [
  {
   "cell_type": "code",
   "execution_count": null,
   "metadata": {},
   "outputs": [],
   "source": [
    "import pandas as pd\n",
    "import numpy as np\n",
    "import glob\n",
    "from scipy.special import digamma, gamma\n",
    "from numpy.random import dirichlet\n",
    "import glob\n",
    "from tqdm import tqdm"
   ]
  },
  {
   "cell_type": "markdown",
   "metadata": {},
   "source": [
    "# Experimentation"
   ]
  },
  {
   "cell_type": "code",
   "execution_count": null,
   "metadata": {},
   "outputs": [],
   "source": [
    "# we start by loading an example term_sentence matrix\n",
    "ts_matrix_list = sorted(\n",
    "    glob.glob('/home/joao/Thesis/ts_matrices_original/*.p'))\n",
    "this_file = ts_matrix_list[0]"
   ]
  },
  {
   "cell_type": "code",
   "execution_count": null,
   "metadata": {},
   "outputs": [],
   "source": [
    "term_sentence_document_matrix = pd.read_pickle(this_file)\n",
    "\n",
    "#from it we create the term_document matrix and the term-sentence matrix\n",
    "B = term_sentence_document_matrix.copy()\n",
    "B_keys = B[['this_file_name', 'sentence_order', 'word_count']]\n",
    "B.drop(\n",
    "    columns=['this_file_name', 'sentence_order', 'word_count'],\n",
    "    inplace=True)\n",
    "B = B.fillna(0).as_matrix().transpose()\n",
    "B = B / B.sum(axis=0)\n",
    "\n",
    "# and from the term_sentence_document_matrix we create the term_document_matrix\n",
    "A = term_sentence_document_matrix.fillna(0).drop(\n",
    "    columns=['sentence_order']).groupby(\n",
    "        'this_file_name').sum().as_matrix().transpose()\n",
    "\n",
    "# I'll allow 40 topics to be present at any time, so\n",
    "K = 14\n",
    "alfa_v = np.random.rand(A.shape[1], K)\n",
    "alfa_u = np.random.rand(B.shape[1], K)\n",
    "\n",
    "alfa_v[:, :] = alfa_v[0, 0]\n",
    "alfa_u[:, :] = alfa_v[0, 0] * K / B.shape[1]\n",
    "# we now create samples from dirichlet\n",
    "# we must then start by these matrices randomly UsxK: and VdxK\n",
    "U = np.random.rand(B.shape[1], K)\n",
    "V = np.random.rand(A.shape[1], K)\n",
    "# normalizing each column of U and V\n",
    "U = U / U.sum(axis=0)\n",
    "\n",
    "V = V / V.sum(axis=1)[:, np.newaxis]\n",
    "\n",
    "# since we don't know what alfa is supposed to mean, we also randomly initialize it"
   ]
  },
  {
   "cell_type": "code",
   "execution_count": null,
   "metadata": {},
   "outputs": [],
   "source": [
    "# we then define the update equations:\n",
    "def update_U(A, B, U, V, alfa_u):\n",
    "    C = A / np.matmul(np.matmul(B, U), V.transpose())\n",
    "    new_U = np.multiply(U, np.matmul(np.matmul(B.transpose(), C), V)) + alfa_u\n",
    "    return new_U / new_U.sum(axis=0)\n",
    "\n",
    "\n",
    "def update_V(A, B, U, V, alfa_v):\n",
    "    C = A / np.matmul(np.matmul(B, U), V.transpose())\n",
    "    new_V = np.multiply(V, np.matmul(np.matmul(C.transpose(), B), U)) + alfa_v\n",
    "    return new_V / new_V.sum(axis=1)[:, np.newaxis]"
   ]
  },
  {
   "cell_type": "code",
   "execution_count": null,
   "metadata": {},
   "outputs": [],
   "source": [
    "diff_u = 1000\n",
    "U_old = U\n",
    "it = 0\n",
    "while (diff_u > 0.000000001):\n",
    "    U = update_U(A, B, U, V, alfa_u)\n",
    "    V = update_V(A, B, U, V, alfa_v)\n",
    "    if (it % 50 == 0):\n",
    "        diff_u = np.abs(U_old - U).sum()\n",
    "        U_old = U\n",
    "    it += 1\n",
    "print(it, diff_u)"
   ]
  },
  {
   "cell_type": "code",
   "execution_count": null,
   "metadata": {},
   "outputs": [],
   "source": [
    "# loading all raw sentences\n",
    "sentence_banks = sorted(glob.glob('/home/joao/Thesis/sentence_bank/*.p'))"
   ]
  },
  {
   "cell_type": "code",
   "execution_count": null,
   "metadata": {},
   "outputs": [],
   "source": [
    "sentences = pd.read_pickle(sentence_banks[0])"
   ]
  },
  {
   "cell_type": "code",
   "execution_count": null,
   "metadata": {
    "scrolled": true
   },
   "outputs": [],
   "source": [
    "# sentence selection process:\n",
    "# most likely topic to represent a document:\n",
    "probabilities = pd.Series(V.flatten())\n",
    "probabilities = probabilities.sort_values(ascending=False)\n",
    "topics = []\n",
    "for i in probabilities.unique():\n",
    "    topics.extend(np.where(V == i)[1])\n",
    "#     print(i,np.where(V == i)[1])"
   ]
  },
  {
   "cell_type": "code",
   "execution_count": null,
   "metadata": {},
   "outputs": [],
   "source": [
    "U_df = pd.DataFrame(U)\n",
    "selected_sentences_index = []\n",
    "selected_sentences = []\n",
    "total_words = 0\n",
    "for topic in topics:\n",
    "    subset = U_df.iloc[:, topic].copy()\n",
    "    subset.sort_values(ascending=False, inplace=True)\n",
    "    subset = subset[~subset.index.isin(selected_sentences_index)]\n",
    "    selected_sentence = sentences.sentence[subset.index[0]]\n",
    "    total_words += len(selected_sentence.split(' '))\n",
    "    if (total_words < 400):\n",
    "        selected_sentences_index.append(subset.index[0])\n",
    "        selected_sentences.append(selected_sentence)\n",
    "    else:\n",
    "        break"
   ]
  },
  {
   "cell_type": "code",
   "execution_count": null,
   "metadata": {},
   "outputs": [],
   "source": [
    "abstract = ''\n",
    "for i in selected_sentences:\n",
    "    abstract += i"
   ]
  },
  {
   "cell_type": "code",
   "execution_count": null,
   "metadata": {},
   "outputs": [],
   "source": [
    "abstract"
   ]
  },
  {
   "cell_type": "markdown",
   "metadata": {},
   "source": [
    "# Implementation"
   ]
  },
  {
   "cell_type": "code",
   "execution_count": null,
   "metadata": {},
   "outputs": [],
   "source": [
    "import pandas as pd\n",
    "import numpy as np\n",
    "import glob\n",
    "from scipy.special import digamma, gamma\n",
    "from numpy.random import dirichlet\n",
    "import glob\n",
    "from tqdm import tqdm\n",
    "from joblib import Parallel, delayed\n",
    "\n",
    "\n",
    "# wrapping it all into a function:\n",
    "# we then define the update equations:\n",
    "def update_U(A, B, U, V, alfa_u):\n",
    "    C = A / np.matmul(np.matmul(B, U), V.transpose())\n",
    "    new_U = np.multiply(U, np.matmul(np.matmul(B.transpose(), C), V)) + alfa_u\n",
    "    return new_U / new_U.sum(axis=0)\n",
    "\n",
    "\n",
    "def update_V(A, B, U, V, alfa_v):\n",
    "    C = A / np.matmul(np.matmul(B, U), V.transpose())\n",
    "    new_V = np.multiply(V, np.matmul(np.matmul(C.transpose(), B), U)) + alfa_v\n",
    "    return new_V / new_V.sum(axis=1)[:, np.newaxis]\n",
    "\n",
    "\n",
    "def summarize_FGB(filename):\n",
    "    # we start by loading an example term_sentence matrix\n",
    "    this_file = filename\n",
    "\n",
    "    term_sentence_document_matrix = pd.read_pickle(this_file)\n",
    "\n",
    "    #from it we create the term_document matrix and the term-sentence matrix\n",
    "    B = term_sentence_document_matrix.copy()\n",
    "    B_keys = B[['this_file_name', 'sentence_order', 'word_count']]\n",
    "    B.drop(\n",
    "        columns=['this_file_name', 'sentence_order', 'word_count'],\n",
    "        inplace=True)\n",
    "    B = B.fillna(0).as_matrix().transpose()\n",
    "    B = B / B.sum(axis=0)\n",
    "\n",
    "    # and from the term_sentence_document_matrix we create the term_document_matrix\n",
    "    A = term_sentence_document_matrix.fillna(0).drop(\n",
    "        columns=['sentence_order', 'word_count']).groupby(\n",
    "            'this_file_name').sum().as_matrix().transpose()\n",
    "    #     return A,B\n",
    "    # I'll allow 40 topics to be present at any time, so\n",
    "    K = 20\n",
    "    alfa_v = np.random.rand(A.shape[1], K)\n",
    "    alfa_u = np.random.rand(B.shape[1], K)\n",
    "\n",
    "    alfa_v[:, :] = alfa_v[0, 0]\n",
    "    alfa_u[:, :] = alfa_v[0, 0] * K / B.shape[1]\n",
    "    # we must then start by these matrices randomly UsxK: and VdxK\n",
    "    U = np.random.rand(B.shape[1], K)\n",
    "    V = np.random.rand(A.shape[1], K)\n",
    "    # normalizing each column of U and V\n",
    "    U = U / U.sum(axis=0)\n",
    "\n",
    "    V = V / V.sum(axis=1)[:, np.newaxis]\n",
    "\n",
    "    diff_u = 1000\n",
    "    U_old = U\n",
    "    it = 0\n",
    "    while (diff_u > 0.00001):\n",
    "\n",
    "        U = update_U(A, B, U, V, alfa_u)\n",
    "        V = update_V(A, B, U, V, alfa_v)\n",
    "        if (it % 50 == 0):\n",
    "            diff_u = np.abs(U_old - U).sum()\n",
    "            U_old = U\n",
    "        it += 1\n",
    "    print(it, diff_u)\n",
    "    # loading all raw sentences\n",
    "    sentence_bank_file = '/home/joao/Thesis/sentence_bank/' + this_file.split(\n",
    "        '/')[-1]\n",
    "    sentences = pd.read_pickle(sentence_bank_file)\n",
    "    # sentence selection process:\n",
    "    # most likely topic to represent a document:\n",
    "    probabilities = pd.Series(V.flatten())\n",
    "    probabilities = probabilities.sort_values(ascending=False)\n",
    "    topics = []\n",
    "    for i in probabilities.unique():\n",
    "        topics.extend(np.where(V == i)[1])\n",
    "    U_df = pd.DataFrame(U)\n",
    "    selected_sentences_index = []\n",
    "    selected_sentences = []\n",
    "    total_words = 0\n",
    "    for topic in topics:\n",
    "        subset = U_df.iloc[:, topic].copy()\n",
    "        subset.sort_values(ascending=False, inplace=True)\n",
    "        subset = subset[~subset.index.isin(selected_sentences_index)]\n",
    "        selected_sentence = sentences.sentence[subset.index[0]]\n",
    "        total_words += len(selected_sentence.split(' '))\n",
    "        if (total_words < 400):\n",
    "            selected_sentences_index.append(subset.index[0])\n",
    "            selected_sentences.append(selected_sentence)\n",
    "        else:\n",
    "            break\n",
    "    abstract = ''\n",
    "    for i in selected_sentences:\n",
    "        abstract += i\n",
    "    return abstract, filename.split('/')[-1]"
   ]
  },
  {
   "cell_type": "code",
   "execution_count": null,
   "metadata": {},
   "outputs": [],
   "source": [
    "%%time\n",
    "ts_matrix_list = sorted(\n",
    "    glob.glob('/home/joao/Thesis/ts_matrices_original/*.p'))\n",
    "summaries = []\n",
    "files = []"
   ]
  },
  {
   "cell_type": "code",
   "execution_count": null,
   "metadata": {},
   "outputs": [],
   "source": [
    "results = Parallel(\n",
    "    n_jobs=8, verbose=11)(delayed(summarize_FGB)(ts_matrix_file)\n",
    "                          for ts_matrix_file in ts_matrix_list)"
   ]
  },
  {
   "cell_type": "code",
   "execution_count": null,
   "metadata": {},
   "outputs": [],
   "source": [
    "filenames = []\n",
    "abstracts = []\n",
    "for i in results:\n",
    "    abstracts.append(i[0])\n",
    "    filenames.append(i[1])\n",
    "results_df = pd.DataFrame({'filename': filenames, 'abstracts': abstracts})"
   ]
  },
  {
   "cell_type": "code",
   "execution_count": null,
   "metadata": {},
   "outputs": [],
   "source": [
    "results_df.to_pickle('/home/joao/Thesis/FGB/results.p')"
   ]
  },
  {
   "cell_type": "code",
   "execution_count": null,
   "metadata": {},
   "outputs": [],
   "source": [
    "results_a = pd.read_pickle('/home/joao/Thesis/FGB/results.p')"
   ]
  },
  {
   "cell_type": "code",
   "execution_count": null,
   "metadata": {},
   "outputs": [],
   "source": [
    "this_file = ts_matrix_list[11]\n",
    "sentence_bank_file = '/home/joao/Thesis/sentence_bank/' + this_file.split(\n",
    "    '/')[-1]\n",
    "A, B = summarize_FGB(ts_matrix_list[11])\n",
    "B_df = pd.DataFrame(B)\n",
    "sentence_bank = pd.read_pickle(sentence_bank_file)"
   ]
  },
  {
   "cell_type": "code",
   "execution_count": null,
   "metadata": {},
   "outputs": [],
   "source": [
    "B_df.loc[:, B_df.sum() == 0].notnull().sum()"
   ]
  },
  {
   "cell_type": "code",
   "execution_count": null,
   "metadata": {},
   "outputs": [],
   "source": [
    "sentence_bank.sentence[[295, 301]]"
   ]
  },
  {
   "cell_type": "code",
   "execution_count": null,
   "metadata": {},
   "outputs": [],
   "source": [
    "pd.read_pickle(this_file).dropna(how='all').shape"
   ]
  },
  {
   "cell_type": "code",
   "execution_count": null,
   "metadata": {},
   "outputs": [],
   "source": [
    "results_a"
   ]
  },
  {
   "cell_type": "markdown",
   "metadata": {},
   "source": [
    "# Execution time : 3 minutes"
   ]
  },
  {
   "cell_type": "markdown",
   "metadata": {},
   "source": [
    "# Applying to the test dataset:"
   ]
  },
  {
   "cell_type": "code",
   "execution_count": 14,
   "metadata": {},
   "outputs": [],
   "source": [
    "import pandas as pd\n",
    "import numpy as np\n",
    "import glob\n",
    "from scipy.special import digamma, gamma\n",
    "from numpy.random import dirichlet\n",
    "import glob\n",
    "from tqdm import tqdm\n",
    "from joblib import Parallel, delayed\n",
    "\n",
    "\n",
    "# wrapping it all into a function:\n",
    "# we then define the update equations:\n",
    "def update_U(A, B, U, V, alfa_u):\n",
    "    C = A / np.matmul(np.matmul(B, U), V.transpose())\n",
    "    new_U = np.multiply(U, np.matmul(np.matmul(B.transpose(), C), V)) + alfa_u\n",
    "    return new_U / new_U.sum(axis=0)\n",
    "\n",
    "\n",
    "def update_V(A, B, U, V, alfa_v):\n",
    "    C = A / np.matmul(np.matmul(B, U), V.transpose())\n",
    "    new_V = np.multiply(V, np.matmul(np.matmul(C.transpose(), B), U)) + alfa_v\n",
    "    return new_V / new_V.sum(axis=1)[:, np.newaxis]\n",
    "\n",
    "\n",
    "def summarize_FGB_test(filename):\n",
    "    # we start by loading an example term_sentence matrix\n",
    "    this_file = filename\n",
    "\n",
    "    term_sentence_document_matrix = pd.read_pickle(this_file)\n",
    "\n",
    "    #from it we create the term_document matrix and the term-sentence matrix\n",
    "    B = term_sentence_document_matrix.copy()\n",
    "    B_keys = B[['this_file_name', 'sentence_order', 'word_count']]\n",
    "    B.drop(\n",
    "        columns=['this_file_name', 'sentence_order', 'word_count'],\n",
    "        inplace=True)\n",
    "    B = B.fillna(0).as_matrix().transpose()\n",
    "    B = B / B.sum(axis=0)\n",
    "\n",
    "    # and from the term_sentence_document_matrix we create the term_document_matrix\n",
    "    A = term_sentence_document_matrix.fillna(0).drop(\n",
    "        columns=['sentence_order', 'word_count']).groupby(\n",
    "            'this_file_name').sum().as_matrix().transpose()\n",
    "    #     return A,B\n",
    "    # I'll allow 15 topics to be present at any time, so\n",
    "    K = 1\n",
    "    alfa_v = np.random.rand(A.shape[1], K)\n",
    "    alfa_u = np.random.rand(B.shape[1], K)\n",
    "\n",
    "    alfa_v[:, :] = alfa_v[0, 0]\n",
    "    alfa_u[:, :] = alfa_v[0, 0] * K / B.shape[1]\n",
    "    # we must then start by these matrices randomly UsxK: and VdxK\n",
    "    U = np.random.rand(B.shape[1], K)\n",
    "    V = np.random.rand(A.shape[1], K)\n",
    "    # normalizing each column of U and V\n",
    "    U = U / U.sum(axis=0)\n",
    "\n",
    "    V = V / V.sum(axis=1)[:, np.newaxis]\n",
    "\n",
    "    diff_u = 1000\n",
    "    U_old = U\n",
    "    it = 0\n",
    "    while (diff_u > 0.00001):\n",
    "        #         if(it > 4):\n",
    "        #             break\n",
    "        U = update_U(A, B, U, V, alfa_u)\n",
    "        V = update_V(A, B, U, V, alfa_v)\n",
    "        if (it % 50 == 0):\n",
    "            diff_u = np.abs(U_old - U).sum()\n",
    "            U_old = U\n",
    "        it += 1\n",
    "    print(filename, it, diff_u)\n",
    "    # loading all raw sentences\n",
    "    sentence_bank_file = '/home/joao/Thesis/test_set/sentence_banks/' + this_file.split(\n",
    "        '/')[-1]\n",
    "    sentences = pd.read_pickle(sentence_bank_file)\n",
    "    # sentence selection process:\n",
    "    # most likely topic to represent a document:\n",
    "    probabilities = pd.Series(V.flatten())\n",
    "    probabilities = probabilities.sort_values(ascending=False)\n",
    "    topics = []\n",
    "    for i in probabilities.unique():\n",
    "        topics.extend(np.where(V == i)[1])\n",
    "    U_df = pd.DataFrame(U)\n",
    "    selected_sentences_index = []\n",
    "    selected_sentences = []\n",
    "    total_words = 0\n",
    "    for topic in topics:\n",
    "        subset = U_df.iloc[:, topic].copy()\n",
    "        subset.sort_values(ascending=False, inplace=True)\n",
    "        subset = subset[~subset.index.isin(selected_sentences_index)]\n",
    "        selected_sentence = sentences.sentence[subset.index[0]]\n",
    "        total_words += len(selected_sentence.split(' '))\n",
    "        if (total_words < 250):\n",
    "            selected_sentences_index.append(subset.index[0])\n",
    "            selected_sentences.append(selected_sentence)\n",
    "        else:\n",
    "            break\n",
    "    abstract = ''\n",
    "    for i in selected_sentences:\n",
    "        abstract += i\n",
    "    return abstract, filename.split('/')[-1]"
   ]
  },
  {
   "cell_type": "code",
   "execution_count": 15,
   "metadata": {},
   "outputs": [],
   "source": [
    "ts_matrix_list = sorted(\n",
    "    glob.glob('/home/joao/Thesis/test_set/ts_matrices/*.p'))"
   ]
  },
  {
   "cell_type": "code",
   "execution_count": null,
   "metadata": {},
   "outputs": [
    {
     "name": "stderr",
     "output_type": "stream",
     "text": [
      "[Parallel(n_jobs=8)]: Using backend LokyBackend with 8 concurrent workers.\n",
      "[Parallel(n_jobs=8)]: Done   1 tasks      | elapsed:    0.2s\n",
      "[Parallel(n_jobs=8)]: Done   2 tasks      | elapsed:    0.3s\n",
      "[Parallel(n_jobs=8)]: Done   3 tasks      | elapsed:    0.3s\n",
      "[Parallel(n_jobs=8)]: Done   4 tasks      | elapsed:    0.4s\n"
     ]
    }
   ],
   "source": [
    "%%time\n",
    "summaries = []\n",
    "files = []\n",
    "results = []\n",
    "results = Parallel(\n",
    "    n_jobs=8, verbose=11)(delayed(summarize_FGB_test)(ts_matrix_file)\n",
    "                          for ts_matrix_file in ts_matrix_list)"
   ]
  },
  {
   "cell_type": "markdown",
   "metadata": {},
   "source": [
    "# Execution time : 5 minutes 10 seconds"
   ]
  },
  {
   "cell_type": "code",
   "execution_count": 11,
   "metadata": {},
   "outputs": [
    {
     "name": "stdout",
     "output_type": "stream",
     "text": [
      "Several factors induce the difference: for example, it takes some time for equipments to reach high power, some areas of formation are not completely saturated, micro-fractures in formation exist and there are micro-gaps between cement casing and wellbore.When the pumping pressure exceeds the strength of the formation rock, fractures are induced and propagated into the formation, and then the propping agent is pumped into the fractures to keep them from closing after pumping pressure is released.Fluid-solid coupling elements were used to describe the behavior of formation stress-seepage flow coupling; pore pressure cohesive elements based on damage mechanics were employed to simulate the process of fracture initiation and propagation.However in the model plan, strain assumption was made, the length of the fracture was pointed to be a fixed value and the loading applied on the fracture walls distributed force but not fluid pressure.Fluid-solid coupling elements are used to describe the behavior of formation stress-seepage flow coupling.Therefore, the wellhead pressure evolution measured on ground can be transformed to the corresponding bottom-hole pressure, by considering the above factors, and then compared to the simulation obtained bottom-hole pressure.Horizontal or vertical fractures of vertical wells may be developed depending on the factors such as depth of the well, distributions of in situ stresses and lithological parameters in formation.\n",
      "Apparently, there are some possible mechanisms of oil recovery except the one explained in \"Introduction\" part control the process in these water-wet experiments, as following:  changing in interfacial tension  and wettability that were also mentioned before by Hamida and Babadagli ,  coalescence of oil droplets by Bjerknes forces that was also observed by Bjerknes ,  peristaltic movement of brine after applying ultrasound, which was mentioned before by Ganiev et al.After primary and secondary recovery of an oil field, using some conventional-enhanced oil recovery methods such as chemical flooding , polymer flooding, gas flooding, steam flooding for improving oil recovery are definitely required.Kostrov and Wooden  presented some possible oil recovery mechanisms as the following:  dislodging the oil droplet from the pore wall into the flow of fluid,  coalescence of two or more the oil droplets  into the big one having higher mobility.So, in this study to prove the claim, a comprehensive series of macro-model  and micro-model experiments were done to show the effect of ultrasonic waves on oil recovery rate and oil mobilization for different medium wettability , and oil viscosities .Because the force generated by ultrasound exerted on all sections of the micro-model at the same time and without inequity, the probability of growing pathways of percolation which bypass great flow cell portions  is reduced.\n",
      "The solutions were prepared using softened water and then mixed with the sandstone by a magnetic stirrer for 1 h. Consequently, the samples were closed with phenolic screw caps to limit the evaporation during the equilibration period of 5 days at 90 degC.So in order to design a cost-effective polymeric surfactant slug that offers a favorable mobility ratio, a polymeric surfactant concentration of 0.4 wt% was chosen as the optimum concentration for the chemical flooding displacement of the crude oil used in this work.A useful technique for increasing the oil recovery by chemical flooding is adding polymer to the flood water to reduce the mobility of the aqueous phase, thus improving the sweep efficiency.After the equilibrium time, the surfactant concentration in each sample was determined by comparing the refractive index values after equilibrium with the initially plotted calibration curves.Daqing oil field in China is one of the earliest and successful fields to apply ASP on an extended field scale with an increase in oil recovery of 18-23 % OOIP .For all coreflood experiments, the injection strategy started with the first water flooding, chemical slug injection and then the last step involves waterflooding as chase water.The department of energy project in the Sho-Vel-Tom field in Oklahoma reported that the application of the ASP process reduced the oil saturation from 35 to <5 % .\n",
      "During drilling, we may encounter two main problems in borehole stability: breakout  and drilling induced tensile fracture  that may lead to fishing, stuck pipe, sidetracking, reaming and fluid loss , all of which can be resolved through determination of safe mud window for borehole drilling.From geomechanical point of view, stable mud window keeps borehole safe against DITFs and/or stuck pipes which happen due to high mud weight as well as BOs which result from low mud weight .Mechanical factors mostly depend on inappropriate mud weight  and improper drilling methods , whereas chemical factors are dramatically influenced by drilling mud, that is to say, improper mud and insufficient inhibitors.It should be noted that in the studied field, there are other important factors in causing the failure such as collisions of the drill string with the wellbore, sudden decrease of drilling mud pressure and the presence of fractures.So, as implied by the term \"Geomechanics,\" keys to physical and mechanical problems resulted from materials operating in various depth of the earth and from the existing stresses can be found in domain of this science.However, in oil field studies, the stresses are determined only for three principal components of the stress: a vertical component , and two minimum and maximum horizontal stress components .Minimum horizontal stress is observed along the direction of borehole breakout and maximum horizontal one, along the direction of DITFs derived from drilling.\n",
      "The trend of the boreholes to fail in tension decreases with the degree of anisotropy, k. On the other hand, the trend to fail in shear increases with the k. Neglecting the effect of the anisotropy during borehole stability analyses can lead to make erroneous decisions of the mud pressure that should be used when dealing with this type of formations.After coring in these two directions of rock samples, we conducted Triaxial Compression Tests using Changchun Sunrise TAW-1000 Deep Water Pore Pressure Servo-system, and its stress-strain curves are shown in Fig.Therefore, in order to increase economic benefit of well operation, gaining a full understanding of mechanical properties of rock becomes very important, since the existing in situ stress field and the physical mechanical properties of rock are closely related to the borehole stability .The importance of accounting for rock anisotropy in engineering problems is scale-dependent: it depends on the relative size of the problem being investigated, with respect to the size of the rock features such as strata or bed thickness and joint spacing.This special laminar texture kind of formation bears the following characteristics: In parallel bedding directions , its physical and mechanical properties are very close and can be approximately considered as the same; however, great differences exist between any direction of the bedding plane and that of the vertical bedding.\n",
      "The Unayzah Formation was then correlated with its equivalent units in different parts of the Greater Arabian basin  and its type locality was established within Unayzah town with a reference section assigned at Wadi Ash-Shajara at the Qusayba depression, Al-Qasim region .Pore radius corresponding to the apex and that corresponding to the 35% mercury saturation confirms the reservoir classification indicating megaporous reservoirs except for SJ3 of the Lower Shajara which has low quality due to its fine grain characteristic and its proximity to the unconformity surface.Depending on sub-Unayzah unconformity, sub-middle Shajara local unconformity, the lower mudstone interval, and sub-Khuff unconformity , the Shajara Formation was divided into three members, from base to top: the Lower Shajara, the Middle Shajara, and the Upper Shajara .The term Unayzah Formation was restricted to the upper unit of the group which is best represented in its original type locality in Unayzah town, while the term Shajara Formation was assigned to the Lower unit which is best represented at Wadi Ash-Shajara .They redefined the Unayzah Formation at its type locality by introducing the term \"basal Khuff clastics\"  of the Khuff Formation to be the upper contact of the Unayzah Formation.They subdivided the lower Unayzah sandstones into three members, from base to top are: Unayzah C Member, Unayzah B Member, and an un-named middle Unayzah member.\n",
      "Considering Kazemi model that assumes parallel layers of matrix and fracture in a uniform fracture network model, similar fracture permeability and aperture for the fracture layers and similar matrix permeability and block size for the matrix layers, then average reservoir permeability based on thickness of matrix and fracture layers  can be expressed as follows where K f is permeability of a natural fracture, b is average fracture aperture, a is average matrix block thickness, K is welltest permeability, K m is average permeability of the matrix blocks, h is reservoir thickness, n is number of fractures intersecting the wellbore across the reservoir, ph f is fracture porosity , n*a is cumulative matrix block thickness, and n*b is cumulative fracture aperture.The conventional approaches might fail to characterize fracture parameters in naturally fractured tight gas reservoirs, especially in complicated cases such as hydraulically fractured or horizontally drilled wells , and therefore application of welltest and image log data in the reservoirs may not be well understood and is proved to be difficult to interpret for meaningful results.Although one can estimate the average permeability value from welltest data in tight reservoirs using advanced welltest interpretation techniques , estimating fracture storativity and interporosity flow coefficient from such welltest data might not be feasible since the dual-porosity response may not clearly be observed on pressure build-up diagnostic plots.\n",
      "The additional oil recovery by alkali injection after conventional water flooding is obtained by four possible mechanisms  viz., reduction of oil-water IFT; in situ formation of surfactant by reacting with acidic components of oil; emulsification of oil into water; wettability alteration and improvement of sweep efficiency by emulsification and entrapment.ASP flooding is a technique which is developed out on the basis of alkali flooding, surfactant flooding and polymer flooding  and oil recovery is enhanced gently by decreasing interfacial tension , increasing capillary number, enhancing microscopic displacing efficiency, improving mobility ration and increasing macroscopic sweep efficiency .A critical step for the optimal design and control of ASP recovery processes is to find the relative contributions of design variables such as, slug size and chemical concentrations, in the variability of given performance measures , considering a heterogeneous and multiphase petroleum reservoir.Based on the prices of crude oil and the cost of chemicals, the optimum concentration of different chemicals in ASP slug may be varied within a certain concentration range where substantial additional recoveries are obtained.Another main accepted mechanism of mobile residual oil after water flooding is that there must be a rather large viscous force perpendicular to the oil-water interface to push the residual oil.They have reported that ASP flooding displaces not only the residual oil in the high-permeability layer but also the remaining oil in the low- and middle permeability layers by increasing both swept volume and displacement efficiency.\n",
      "A study conducted by Fisher  on some specific reservoirs showed that in oil shale the desired temperature was 550 degC  and the input heat required was 153 kWh/ton, and in oil sand the maximum temperature required was 300 degC and input heat requirement was 123 kWh/ton.More specifically, when a well is drilled in a hydrocarbon depleted area for primary recovery, the oil starts flowing towards the producing well because of the pressure difference between the bottom of the producing well and the reservoir leading to oil recovery of 5-25 % of the original oil in place.Similarly, the decision regarding location for employment of electrical sources inside the well should be taken for the best possible recovery; a feedback loop should be developed which can calculate the desired position and basing upon the results can adjust the position of the heaters accordingly.Hence, when microwaves are applied these polar water molecules are set into circulatory motion and they collide speedily with other molecules with the frequency collisions equal to the frequency of applied micro waves which in result produces much heat .However, it is technologically complex to implement since it requires relatively complex and expensive equipment, though it may be a good alternative in case there is much oil trapped in the reservoir, within which the acid content is high.\n",
      "However, production and ultimate recovery are usually uneconomical due to a number of factors which include: poor reservoir quality, unfavourable initial saturation condition, formation damage caused by drilling and completion operations, hydraulic or acid fracturing, kill or work-over treatments and other production-related problems .A lot has been done on estimation of both air and absolute permeability of basic rock properties from MICP measurements ; however, technologies required for the acquisition of accurate rock-fluid interaction data necessary to understand flow behaviour in tight formations with permeability in the micro-Darcy  range are currently being researched .Lithologically, the middle cretaceous Wasia formation in the area can be divided into two major units: the Lower Wasia sequence of mainly siliciclastic facies  of Albian-early Cenomanian age and the Upper Wasia fine-grained siliciclastic and carbonate sequence  of Cenomanian-Turonian age.Also, given that the main factors affecting the absolute permeability are length-scales associated with the grain-size in the first place and secondly the porosity , published experimental data in the low porosity range of carbonate samples from Zinszner and Pellerin  were selected for comparison purposes.Although, this correction, known as the 'blank' correction tends to have little effect on the estimated permeability due to the fact that most of the permeability models use the low pressure region of the capillary pressure curve; it can lead to the deviation of the data from expected asymptotic trend .\n",
      "Generally, the main geomorphologic features of the north Western Desert are: the absence of well marked drainage lines, the presence of some parallel belts of sand dunes of different lengths running mainly in a NNW direction, the presence of plateaus that are capped by resistant Eocene and Miocene limestone, and the presence of numerous extensive and deep-in depression, e.g.The fore-mentioned tectonic elements are shown in the basement tectonic map, and named related to Abu El-Ata , Camel Pass-Abu Roash high, El-Sagha high, El-Faras-El-Faiym High as well as Qatrani-El Gindi low trends.That is important for hydrocarbon exploration, since the hydrocarbons can be found mainly in the sedimentary section, where the configuration of the basement rocks reflects the size and shape of any sedimentary basin and ridge that form the source rocks and trapping elements.Because the north Western Desert tract is located within the unstable belt of Egypt, there are a number of folding and faulting structures within its sedimentary section that caused lateral variations in compositions and thicknesses of the affected sequences.The Miocene deposits are separated from the Eocene rocks by narrow belt of Oligocene rocks outcropping north of Birket Qarun and are composed of cross-bedded sandstones and gravels with interbeds of shales and limestones.The interpretation of magnetic data is not unique, because it is controlled by many factors; for example, depth to top of the causative feature, its shape, its azimuth, its magnetic susceptibility, that is mainly related to its petrographical composition.\n",
      "The final network is a three layer feed-forward back propagation network, whose features are as follows: Levenberg-Marquardt as the training algorithm, MSE as performance function, two layers, seven neurons for input layer, 15 neurons for hidden layer, one neuron for output layer, \"tansig\" as activation function for hidden layer, and \"purelin\" for output layer.Although there is no exact scientific theoretical approach for proper selection of drill bits, the following useful methods may provide a close estimate to the best bit for the given formation interval to be drilled: thorough evaluation and comparison of offset, well bit records, bit run cost equation, drill-off test and specific energy equation.Bit run cost may be expressed as follows  where Cdi is the drilling cost in $/ft for bit run i, Cbi is the cost of bit run i in $, Cr is rig cost in $/h, Tdi is the drilling time in h for bit i, Tti is the trip time in h for bit i, Tci is the connection time in h for bit i, and DDi is the formation interval drilled in ft by bit i.Drilling trip time depends on factors such as: well depth, hole size, surge and swab pressure, bottom hole assembly configuration, hoisting capacity, use of automatic pipe handling system, type of rig, hole problems, crew efficiency, and drilling regulations.\n",
      "Accordingly, an optimal strategy is to benefit from the high viscosity, density and solubility of injected gases, reservoir re-pressurization by injecting gas into the lower portions of the reservoir to drive out the out natural gas from the bottom reservoir layers, while minimizing mixing and contamination in the upper parts of the reservoir.This study intends to examine the effects of pure CO2 and acid gas injection into known natural gas reservoirs in Western Australia, and the displacement of native gases to better understand the mechanisms involved in enhanced gas recovery regarding geological storage.In particular, the CGTA study was focused on rock chrematistics such as porosity, permeability, critical gas and water saturation carried out on core plugs from a known field located in the northwest shelf of Western Australia at a depth of 3,650 m .Therefore, gas-gas mixing technically could be supervised via good reservoir management and production control measures, because these physical properties of the solvents undergo large changes as the pressure increases.Furthermore, injected gas whether CO2 or/and H2S-CO2 is migrated downward due to gravity, and these forces will stabilize the displacement between the injected gas and methane initially in place because of low mobility ratio of CO2 and acid gas, respectively.In particular, during the past decade, oil and gas producers in the Alberta basin of western Canada are increasingly being required to reduce atmospheric emissions by injecting acid gas into deep geological formations .\n",
      "Although the considerable researches dealing with multiphase well test analysis can be found in the literature, due to complicated nature of multiphase fluids there are still many ambiguities in this subject especially in the behavior of pressure and pressure derivative data on semi-log and log-log plots used in all well test analysis methods.A black oil commercial simulator ECLIPSE 100 Version  was used to design and generate build-up and draw-down tests in the reservoir under consideration moreover, the obtained pressure transient data for each case were analyzed by a well test analysis software Saphir 4.02 Version .They concluded that the reservoir parameters can be calculated with high accuracy by Perrine method when the fluids saturation change in vertical direction, however the well test data should be interpreted with care in the presence of horizontal saturation gradient in reservoirs.Pressure derivative data show a declining section, followed by a plateau  indicating radial flow, an increasing section followed by another plateau, and final increase indicating closed boundary effects.This model provides a basis for a better understanding of the conclusions derived by numerical results as well as new insight for interpretation of pressure transient behavior affected by non-uniform saturation distribution.In order to simplify the diffusivity equation which is the governing equation for all well test analysis methods several assumptions such as homogenous reservoir, single layer and single-phase liquid flow, etc.\n",
      "The data are illustrated in terms of bit characteristics: bit number, bit size, make, bit type, nozzle size, depth and deviation, weight on bit, rotation, pump pressure, mud flow rate, mud weight, mud viscosity, and bit condition.Increasing the drilling efficiency means increasing the drilling rate by optimizing the combination of weight on bit  and rotational speed for the given bit in a given rock formation as well as increasing the ratio of drilling to bit trip time.Therefore, application of models for prediction of the drilling rate is necessary for  prediction of the time needed for drilling a well with a given size and specifications in a known group of rock formations and  selection of the optimum WOB and rotational speed of bit to increase the drilling rate.A number of the effective parameters on the drilling rate are as follows: load on bit, rotation, depth, rock strength, bit condition, formation pressure, mud weight, mud type, bit diameter, and mud flow rate .Previous studies show that a small portion of the total drilling time is spent on actual rock cutting in the wall by the bit, and the rest is the downtime components that include traversing the rods in and out of the well.Due to relatively high cost of drilling operations, it is essential to develop an accurate prediction of drill performance and drilling rate to estimate the time needed for completion of a well and the related costs.\n",
      "Higher natural gas prices in the recent years and advances in shale gas producing technologies, namely, hydraulic fracturing and horizontal drilling have made shale gas profitable in recent times.Clean sandstones have much higher shear modulus than do shaly sandstone or shale with same porosity suggesting that grain boundary clays significantly reduce the shear modulus but have very little influence on the bulk modulus .A quantitative understanding of the texture and thus the intrinsic contribution of single crystals and their orientation to anisotropy may help us to evaluate the effects of the oriented fracture which may be utilized for fracturing and exploitation of shale gas.Results for aggregate elastic constants weighted by the OD are shown in Table 3 which shows the Elastic Stiffness of I/S and Kaolinite aggregates using the geometric mean , Voigt average , Reuss average  and calculated Thomsen anisotropy parameters.With the hard X-ray diffraction method and Rietveld method, we are able to quantitatively study the texture of shale and subsequently can calculate the compression and shear velocity with change in angle of the bedding plane.All shale gas rocks are intrinsically anisotropic due to the presence of clay minerals; they are typically overpressured due to trap fluids in pores; they contain organic materials; and they have low porosity and permeability .\n",
      "These data imply similar tectonic origin involving crustal thinning within and beneath the grabens and the near-surface presence of igneous intrusions within the horst/graben structures overlain by a relatively thick succession of sedimentary materials.The fault-related features in the Chad Basin have risen from two main causes viz: those due to tensional stress which include normal faults and grabens and those due to underthrusting magmatic intrusive which includes reverse faults and horst that are closely associated with symmetrical folds.Heat flow data contribute towards better understanding of geologic processes like rifting, plateau uplift and mountain building as well as providing the necessary conditions for analysis of hydrocarbon maturation in sediments.For almost three decades from now researchers and scholars on petroleum potentials in Nigeria have concentrated in the South , and recently in Benue trough, while little geophysical and geological works have been carried out in the Nigerian Chad Basin in the north.The basin has been referred to as an interior sag basin , due to a sagging episode that has affected it before the onset of continental separation during which a rift system junction was formed providing appropriate site for sedimentation.The results of the study show that areas of high heat flow  are associated with negative Bouguer gravity anomaly  and low depth to basement rock  while areas of low heat flow  are associated with very high negative Bouguer gravity anomaly  and high depth to basement rocks.\n",
      "The main advantage of integrating three-level full factorial and inscribed central composite designs is that many inner and border points are presented to study; therefore, it traps the non-linear effect in the system, and presents useful information for optimizing the development plan of Dena reservoir.The results of probabilistic production diagrams in this study were compared to the diagrams, which have been obtained by artificial neural network, and it was observed that these results are nearly the same; therefore, it confirms that direct use of Experimental Design is a trusted and easy method for obtaining the probabilistic production forecast.In this study, integrating three-level full factorial and inscribed central composite designs, as well as utilizing a simulator, were used to forecast the probabilistic production of Dena reservoir and also to study the effect of the existing uncertainty in the reservoir on the probabilistic production forecast.To study the effect of these main uncertain parameters as well as to acquire the probabilistic production forecast, it is a good idea to use effective simulator runs to trap the whole uncertainty instead of running the simulator thousands of times with diverse entries for uncertain parameters.Furthermore, the inscribed central composite design and three-level full factorial design are combined to study the impact of effective uncertain parameters on reservoir production forecast.Moreover, Experimental Design has been used to eliminate options which impacted negatively on project economics and to select those that added net present value and to optimize development plan of reservoir .\n",
      "Figure 6 above shows that with the magnesium saltwater influx, there is progressive decline in the performance of barite and hematite muds which indicates that saltwater affects the hydration, dispersion and flocculation behavior of the viscosifier and weighting agent causing particles dispersion and increasing the number of individual platelets in suspension which renders it ineffective for cutting lifting while ferrobar mud shows that cutting suspensions are maintained with the influx of magnesium saltwater at elevated temperature.Barite mud which is generally used for drilling operation experienced higher fluid loss into the formation at high temperature than other muds which indicates that barite mud has the tendency to experience differential sticking as the temperature increases before other two muds, while ferrobar mud provides satisfactory rheological properties required for optimum performance in oil well drilling at elevated temperatures.8, we can conclude that as the hydrostatic head of the drilling fluid is higher than the pore pressure in the formation, liquid from barite and hematite muds will be forced into the formation which thereby causes productivity loss, while ferrobar mud maintains minimal fluid loss into the formation matrix among the three muds in a saline environment.Moreover, comparisons with conventional methods indicate two further superior features of this new circulation system: mud and mud components stabilize more completely; and laboratory muds thus produced more accurately represent good field muds produced after extended high temperature drilling .\n",
      "Finally, in order to advance our understanding of controlled gravity drainage in naturally fractured models, as well as to find out the interaction between capillary and gravity forces in the aforementioned process, the effects of various flow geometries, matrix properties, and model heterogeneity  on GAGD injection/production rate and oil recovery must also be investigated.In addition, Zendehboudi and Chatzis  recently utilized CGD process in a fractured porous media in which the effect of fracture aperture, matrix height and permeability, well spacing and fluid viscosity on the magnitude of newly defined variables: critical pumping rate and also maximum possible withdrawal rate were investigated.Consequently, by conducting several experimental studies and analyzing the results using theoretical and analytical aspects, this study attempts to perform a parametric sensitivity analysis in order to determine the effects of matrix permeability and fluid physical properties on ultimate oil recovery through secondary and tertiary recovery processes .Additionally, up to gas breakthrough, for lower withdrawal rates since viscous and gravity forces were more dominant than capillary forces, gas as the non-wetting phase occupied larger pores and pushed water into the smaller pores, which led to the production of more amount of oil and higher recovery factors.Higher residual oil saturation after waterflooding process  and larger density difference between gasoil and the injected gas as compared to the case of n-heptane lead to larger gravity forces and consequently higher oil recoveries at various production rates for cases with gasoil  after gas breakthrough .\n",
      "This study also indicated that permeability reduction occurred due to two different mechanisms:  accumulation of small particles of asphaltenes in larger pore throat causing a continuous reduction in the pore throat area open to flow, and  large size asphaltene blocks the small pore throat.The probable reason is that in the case of tertiary floods flooding, the CO2 contacts more water and, as a result, dissolves in that water forming carbonic acid, which dissolves the calcite and counteracts any permeability reduction due to asphaltene precipitation in this core and at downstream fine migration and deposition, contributed significantly to the observed damage.Oil is left in the reservoir after water flooding in three possible ways:  as droplets in pores surrounded by water, especially in water-wet rock;  in contact with the surface of the rock, typically in oil-wet rocks; and  a combination of the previous two conditions, called mixed wettability.Searching the literature revealed that no work has been done previously made on the effect of CO2 on IFT between oil and water and actual measurements of porosity and permeability prior to and post CO2 flooding of asphaltenic crude oil in composite low permeability reservoir rocks.Compositional analysis of produced oil from SC-CO2 applications at different initial oil saturations indicated that the application of SC-CO2 flooding for water-flooded or partially water-flooded reservoirs is recommended when oil extraction mechanism is more valid as a recovery mechanism.\n",
      "The authors propose that further research can be carried out by varying the angle of placement and depth for the following parameters: different nozzle angles, different chambers shapes, varying diameters, area ratio and positive and negative suction heads .This study presents two interesting outcomes as a result of testing the influence of angle of placement and depth over jet pump: at constant depth jet pump works better at vertical position but when it is under the influence of both depth and angle of placement, incline position is better once flow is commenced.It is also being an experimental experience that jet pump performance is a function of valve seating design and active pressure control is expected to work better than the gravity and buoyancy settled valve.The experimental aspect of the setup developed is expected to be extensible used for future work and create snow ball effect in terms of the arrangement for varying angle of the placement and depth.Transparent graded tubing was used to see the level of water in the collecting tank and simultaneous measurement for time duration was done to calculate the discharge flow rate.It does not carry any hydrodynamic action as at fully closed position of delivery valve the injection line act as the circulating line without harming the pump.\n",
      "The experimental apparatus consists of power system, pressure measurement system, flow rate measurement system, data acquisition system, experimental cylinder, sand collection system, simulated wellbore and auxiliary equipments, as is illustrated in Figs.Sand control simulation experimental apparatus for gas wells still needs to be further improved, especially the stability of power system, since experiment for various similarity conditions needs to be conducted accurately.For compressor output pressure 2.0 MPa, pressure gradient decreased and gas flow rate was equal to that of output pressure 2.5 MPa, partly sand instability and sand production occurred in cylinder, but the amount of produced sand was significantly less than that of output pressure 2.5 MPa.Through real time measurement of input pressure, inner/outer wellbore pressure and gas flow rate, the effect of pressure and flow rate changes on sand stability was analyzed.The input pressure, inner/outer annular pressure and gas flow rate for experiments using 0.225 mm premium composite screen under compressor output pressure 2.0 MPa are illustrated in Figs.The input pressure, inner/outer annular pressure and gas flow rate for experiments using 0.3 mm premium composite screen under compressor output pressure 2.0 MPa are illustrated in Figs.Figures 8 and 9 illustrate the input pressure, inner/outer annular pressure and gas flow rate for experiments using 0.225 mm premium composite screen under compressor output pressure 2.5 MPa.\n",
      "In previous work, we have documented the performance of oil-soluble corrosion inhibitor CIA in extremely challenging laboratory corrosion tests where the partial pressure of carbon dioxide was 10.3 MPa  and the partial pressure of hydrogen sulfide  was 0.0021 MPa  with rotation rates of 2,000 rpm in an 80/20 mixture of brine and condensate .The corrosion inhibitor results presented in this paper are for a standard oil-soluble corrosion inhibitor consisting of a conventional imidazoline-based corrosion inhibitor [CIA ] and a new water-soluble fatty acid/amidoamine corrosion inhibitor [CIB ].The performance of HT oil-soluble corrosion inhibitors in field situations with high bottom hole temperatures, high partial pressures of carbon dioxide, and some hydrogen sulfide and brines of different salinities has also been documented in this work .8 appear to show that a more uniform and thicker film is obtained using the water-dispersible corrosion inhibitor CID  than the less uniform film obtained with the oil-soluble corrosion inhibitor CIC that has a film thickness varying between 3.9 mm to 5.7 mm.This was a surprising result that was attributed to the fact that the oil-soluble corrosion inhibitor produced large spherical emulsion droplets of approximately 100 mm in diameter, while the water-dispersible corrosion inhibitor had much smaller droplets .In our earlier work, we documented its successful performance in different wells in systems with high bottom hole temperatures, high partial pressures of carbon dioxide, and some hydrogen sulfide and brines of different salinities .\n",
      "The consequences of under-, or over-design of artificial lift systems can lead to the following:\n",
      "If the artificial lift equipment's capacity is greater than well inflow then the operational efficiency of the system cannot reach the designed levels; mechanical damage may also occur.NODAL analysis permits the calculation of the necessary pump heads for different possible pumping rates and the determination of the liquid rate occurring in the total system, This will be the rate where the required head to produce well fluids to the separator is equal to the head developed by the ESP pump run in the well.The modified cases, as seen in Table 3, have much lower total energy requirements mainly due to the removal of the wellhead choke' harmful effect; overall system efficiencies have substantially increased.In addition to the loss of energy and the consequent decrease in profitability the ESP system, when operated under such conditions, soon develops mechanical problems that can lead to a complete system failure.After selecting the rest of the equipment the ESP unit is run in the well and it is only hoped that actual conditions were properly simulated resulting in the well output being equal to the design liquid rate.Original installation designs were far from ideal and most wells had downhole equipment capable of much higher production rates than those permitted by reservoir engineering management and had to be choked back.\n",
      "The notion that micron-sized droplets are formed in any separation process involving a phase change, led to the investigation of the technology for other area's of application: removal of condensate from natural gas, removal of CO2\n",
      "from coal gasification producer gas and removal of CO2\n",
      "\n",
      "from coal combustion gas.Several processes have been developed on this principle, for example the Total Sprex process to remove H2S from natural gas , Cryocell by CoolEnergy to remove CO2\n",
      "\n",
      "from natural gas , Controlled Freeze Zone by Exxon for sour gas fields  and the Alstom anti-sublimation process .For a process which relies on fast phase change as a means of separation to be economical and practical, it is necessary to have a device capable of capturing micron-sized droplets with high collection efficiency at low pressure drop and a small footprint.A technological challenge is, however, posed by the feature that rapid cooling of binary or multi component mixtures of gases to temperatures where one, or some of the components preferentially condense, leads to a mist of very small droplets with diameters of 1-10 mm .But even for moderately contaminated fields where conventional methods are considered for gas sweetening, CRS can significantly lower the operational and capital costs as is shown for the Arabiyah and Hasbah gas fields in Saudi Arabia.\n",
      "Excessive torque/drag, upright equivalent circulation densities, hindering drillpipe sliding which results in limiting the lateral reach of the well, lost circulation, barite sag, inefficient hole cleaning and frequent sticking are some of the engineering problems encountered while drilling horizontally.These beds moved at a lower speed along the annular space so that at the end of the test period, there may be some beds about to approach the outlet of the annulus section and if the test period has lasted for a few extra minutes there is a great chance for the nearby moving beds to leave the annular section.These beds moved at a lower speed along the annular space so that at the end of the test period, there may be some beds about to approach the outlet of the annulus section and if the test period has lasted for a few extra minutes there is a great chance for the nearby moving beds to leave the annular section.Stock suspension of bentonite was prepared by adding bentonite to tap water and shearing at a high rate for 6 h. Stock solutions of the polymers were prepared by dissolving the polymers in tap water at a low shear rate and stirring continuously until clear solutions were obtained.\n",
      "Assuming that the perforation fraction was 0.75 for the perforated zone, the water cut remains 14 %, and the change in production before and after installing screen can be calculated using Darcy's simplified equation for pseudo steady-state flow  where Q1 is the flow rate before installing screen in STB/day; k is the effective permeability in milliDarcy; h is the reservoir thickness in feet; DP is the change in pressure in pounds per square inch; B is the oil formation volume factor; m is the oil viscosity of the oil in cp, rw1 is the radius of the well bore before installing screen in feet; and re is the radius of the reservoir in feet.After analyzing various techniques that can be implemented to minimize sand production and improve the well productivity in heavy oil reservoirs, the following conclusions can be drawn:\n",
      "\n",
      "Screens can be installed to minimize sand production and reduce pump shut-in periods; however, the well might still not be economical due to the high cost of installing screens and the workover that is required to clean them periodically.\n",
      "Other new optimization techniques, especially evolutionary algorithms, such as Genetic Algorithm, Artificial Ant Colony, Simulated Annealing and Imperialist competitive algorithm, are recommended for further researches in production engineering such as multiphase flow prediction through the surface choke.This analysis shows that these parameters have almost the same importance level in predicting Q and we should expect more prediction errors in previously published choke flow correlations compare to our proposed correlation as will be explored shortly.A script is written in MATLAB to perform the Nelder-Mead algorithm by means of MATLAB function Fminsearch based on arbitrary initial values for A, B, C, D, E and F. The results are tabulated in the first row of Table 5.Although the distributions are not exactly the same, but it is clear from this analysis that the proposed correlation can reproduce the actual choke flow rate distribution from the considered random variables in their physical recorded ranges.However, in the risk analysis, regarding the predictive and epistemic path, probabilities are used for expressing uncertainties related to future amounts of observable quantities in a time period .In parametric statistics, linear regression is a mathematical method in which a straight line is fitted between a numbers of points to measure the explanatory variables effect on a scalar dependent variable .However, due to the highly complicated nature of the flow mechanisms and regimes in the pipes, wellheads and orifices, no comprehensive theoretical relation has been accepted under all operating conditions.\n",
      "The economical limits for shutting the wells in all scenarios are given below:\n",
      "\n",
      "Maximum GOR: 2,000 scf/stb\n",
      "\n",
      "Maximum water-cut: 50 %\n",
      "\n",
      "Minimum oil production rate: 200 stb/day\n",
      "\n",
      "After selecting these parameters, the investigation of different injection fluids that can be used for the optimum method of EOR in this field would be initiated.According to four reports published by various people or companies, the following bubble point pressures are given:\n",
      "\n",
      "625-850 psia: Gibson report 1948\n",
      "\n",
      "621 psia: BP research centre 1962\n",
      "\n",
      "619 psia: Epic report 1999\n",
      "\n",
      "619 psia: NIOC \n",
      "\n",
      "The bubble point pressures from the last three sources are practically the same.Whereas the type of operation is flooding and pressure maintenance, increasing the gas injection rate leads to faster movement of gas toward production wells and thus results in sooner shutting and the final recovery will be less.If a small reduction is made in the oil-in-place to account for the poorer reservoir qualities in certain parts of the reservoir , it is quite possible to reduce the Monte Carlo STOIIP to make it much closer to 6.3 billion stb.In the full field history match for the MIS Asmari reservoir, the primary data to be matched are total field oil production rate, total field cumulative oil production, and regional datum pressures for the North and South flanks.As long as the flowing bottom-hole pressures of the wells were still above the bubble point pressure, the producing GOR should be equal to the initial solution GOR, provided that there was no significant gas coning.\n",
      "The stacking pattern, or parasequences consist of  a marine flood of a dune field and carbonate deposition,  shallowing marine deposition due to eustatic lowering of the sea level, and  renewed progradation of eolian dune fields .There are several factors that influence the actual SP process, which includes the mobility control design, surfactant concentration, residual permeability reduction, surfactant retention, dispersion of the surfactant slug, and the rheological behavior of surfactant solution in a porous medium .Therefore, the first task of the polymer flood for a given reservoir is to fix an injection system both technically and economically; especially for reservoirs with strong heterogeneity , the optimization of the polymer injection system is extremely important.The change of molecular weights would result in the basic changes in the polymer solution properties and the solution-rock properties, such as residual reduction factor, adsorption, shear thinning, and inaccessible pore volume .Just as the unconformity at the top of the Minnelusa has long been recognized as an important trapping mechanism, these parasequence boundaries can also provide significant traps because the geomorphic relief on the dune fields was largely preserved during each transgression.From 1964 to 1995, the field was in the depletion stage; the primary drive mode had been shown to be a solution gas drive, in conjunction with fluid expansion, aquifer influx, and gravity drainage .\n",
      "The objective of this work is to investigate the merits of using low-salinity flooding techniques to enhance oil recovery in Bu Hasa reservoir, identify the mechanism involved in the additional recovery of oil by low-salinity flooding, and evaluate the effect of different ions  on the overall recovery process.Although much research has been conducted, the governing physical and chemical mechanisms for this increase in recovery are not yet agreed upon, but are generally believed to involve some form of interaction between the rock, oil, and brine leading to changes in wettability, oil/water interfacial tension, or both.observed that the reason for this divergence in observed reports is attributable to a number of factors which includes  difficulty in wetting state reproducibility,  lack of unified standards and procedure for coring, core handling and core storage, and  the wetting state characterization method adopted.Tang and Morrow  concluded that heavy polar components in the crude oil adsorb onto fine particles along the pore walls and that these mixed-wet fines are stripped by low-salinity brine, altering wettability and increase oil recovery.Sharma and Filoco  investigated the impact of connate and injection brine salinity and crude oil on oil recovery, residual saturations and wettability using Berea cores, 3 different oils and NaCl brine in various concentrations.\n",
      "The ultimate goal of the present study is to establish the ability and cost effectiveness of the new design of a land-streamer, compared with conventional methods, to delineate an accurate sand dune model below the weathered layer as required to apply the appropriate static corrections for conventional seismic data processing.After identifying a desired location for investigation, we began acquiring data by placing a group of high-resolution sensors, which were placed on specially designed mobile plates , along a line or set of lines with sensor spacing Dg being constant or variable .A comparison of raw images of the high-resolution land-streamer and the conventional spiked geophone method shows the great amount of clarity in the land-streamer one, possibly because the geophones in the land streamer are at the surface level and higher.These techniques are usually applied to estimate near-surface geotechnical parameters when information about the spatial distribution of seismic velocities in heterogeneous unconsolidated sediments is required for a wide variety of near-surface environmental and engineering applications .The base of the sand dune acts as a mask of energy that could adversely affect the conventional acquisition of seismic data, scattering of energy from the dune faces and changing velocities within the dunes.The methods traditionally used to compute datum static corrections are based on a near-surface model consisting of the surface elevation, the base of weathered layer and the velocity in and below the weathered layer.\n",
      "The overlying Cretaceous rocks include light gray, white colour thin-bedded argillaceous Parh Limestone that is overlain by mixed siliciclastics and carbonates of Mughal Kot Formation while Fort Munro Formation with its sandy, argillaceous limestone and the overlying Pab Sandstone being the other younger Cretaceous rock units in the Southern Indus Basin\n",
      "Sawan gas field Fig.The effect of the western rift margin of the Indian plate dominance can be observed in the form of many normal fault and horst and associated grabens on the seismic sections and also in the form of Sibbi-Jacobabbad, Khairpur, Mari-Kandkot highs as its surface expressions .To go with the prominent convergence and the late Paleocene collision between the Indian and the Eurasian plates in the north Pakistan, the area was also affected by the translation between Indian plate and Afghan Craton in the northwest  and by territory convergence between Arabian Plate and Afghan Craton .The area was tectonically stable until the Jurassic and probably Early Cretaceous but rifting started to occur during Late Cretaceous and Early Paleocene, the effects of which can be seen on seismic sections, where the post-Eocene strata are either not affected or very less deformed.The shear strain contour map implies that the producing gas wells  lies in the low shear strain area whereas the dry wells  falls relatively in the relatively high shear strain area.\n",
      "Also, as a continuation of the work presented in this paper, we would like to take the proposed solution one step further by integrating the formulated geomechanical model with the fluid flow  models so that all of the unknowns are solved simultaneously.The main objectives of this study are:  the characterization of the geomechanical behavior and eventual failure of the tarmat layer as a response to hydrocarbon production and the associated significant increase in pressure differential between the depleting reservoir and its aquifer; and  the evaluation of the system behavior after geomechanical failure of the tarmat takes place.Within the bounds of the analysis protocol presented in this paper, following conclusions are drawn:\n",
      "As thickness of tarmat increases, total deformation that occurs until the failure point decreases, and pressure differential that is required to fail the tarmat increases.Giant oil fields, being oil sources with high production potentials, contain more than 500 million barrels of recoverable oil as they constitute almost 75% of the recoverable oil resources in the world.It is observed that in smaller drainage areas, more pressure differential is required to fail tarmat, tarmat having higher yield strength, requires more pressure differential until failure and tarmat with smaller Poisson's ratios, requires more pressure differential until the failure point.In these figures, deformation versus loading behavior is investigated until the point where maximum shear stress failure criterion predicts geomechanical failure.\n",
      "Seismic imaging based on the single scattering assumption, also known as Born approximation, consists of two main steps: wavefield reconstruction which serves the purpose of propagating recorded data from the acquisition surface back into the subsurface, followed by an imaging condition which serves the purpose of highlighting locations where scattering occurs.This framework holds both when the source of seismic waves is located in the subsurface and the imaging target consists of locating this source, as well as when the source of seismic waves is located on the acquisition surface and the imaging target consists of locating the places in the subsurface where scattering or reflection occurs.Micro-earthquake location using time-reverse imaging, which is also the technique advocated in this paper, follows the same general pattern mentioned in the preceding paragraph: wavefield-reconstruction backward in time followed by an imaging condition extracting the image, i.e.I exemplify the interferometric imaging condition method with a synthetic example simulating the acquisition geometry of the passive seismic experiment performed at the San Andreas Fault Observatory at Depth .In the first case, the imaging artifacts are caused by the fact that data are imaged with a velocity model that does not incorporate all random fluctuations of the model used for data simulation, while in the second case, the imaging artifacts are caused by the fact that the data are sampled sparsely in the borehole array.\n",
      "The purposes of this paper are to model the flow of the reservoir fluid in hydraulically fractured reservoir using finite difference simulators in a manner that would allow the simulator to mimic the actual fracture geometry without dramatically increasing the number of grid cells and hence increasing the computing requirements and time.DOE research has developed several alternative fracturing techniques designed to accomplish specific tasks such as Tailored pulse fracturing, Foam fracturing, CO2, sand fracturing\n",
      "\n",
      "In general, hydraulic fracture treatments are used to increase the productivity index of a producing well or the injectivity index of an injection well.This is achieved as shown in the paper by using amalgam LGR to decrease the fractures dimensions to the size and dimensions required to achieve this goal and leave the number of grid cells only slightly affected which makes a minor change in the required computing time and capabilities.The modeling of hydraulic fractures could be achieved using amalgam LGR as previously shown with small effect on the computing times and will yield reliable and accurate results as concluded from the comparison of the postfrac production to the simulated rates.One of the major problems facing the reservoir engineers in modeling the hydraulic fractures using the finite difference simulators is the wide gap between the grid size of the reservoir model and the fracture dimensions.\n",
      "Thirdly, miscible displacement of residual oil takes place due to the solvent extraction process : Steam distillation strips the more volatile component from residual oil.Since, it is much faster to obtain results from analytical models than from simulation, analytical model are still useful tools for preliminary forecasting purposes and sensitivity studies.Results based on the modified model agree with field results for three different sets of reservoir and fluid properties: Schoonebeek field, San Ardo field and Hamaca field.The most widely used analytical model given by Jeff Jones and then modified by Chandra and Mamora has the limitation of the frontal advance model, and hence give unsatisfactory prediction of oil production.The oil peak rate calculated by the modified volumetric model is close to the actual data, as compared to that calculated using Jeff Jones model and Chandra and Mamora model as shown in Table 2.The results obtained using the modified volumetric model agrees with the actual field data in comparison to those obtained from Jeff Jones model and Chandra and Mamora model.A steam flood project typically proceeds through four phases of development:  reservoir screening;  pilot tests;  field-wide implementation; and  reservoir management.In situ combustion is a displacement process in which an oxygen-containing gas is injected into a reservoir where it reacts with the crude oil to create a high-temperature combustion front that is propagated through the reservoir.\n",
      "The well-distance between injector and producer is 80 m. The wellbore diameter is 0.060 m. We calculate the threshold temperature of heavy oil in vertical wells  and the certain-productivity temperature of vertical wells  at different displacement pressure-drop conditions .The rheology of heavy crude oil plays an important role in the flowing process of oil through porous media, and the rheological behavior of heavy crude oil is directly related to the development indexes, like well productivity and oil recovery .In other words, the development of heavy oil reservoirs must meet two conditions:  oil could flow into the well bottom from reservoir;  oil could be lifted into the ground from well bottom continuously .The thickness of oil layer is 10 m. The length of horizontal segment is 180 m. The wellbore diameter of horizontal segment is 0.032 m. The results of the threshold temperature of heavy oil in horizontal wells  and the certain-productivity temperature of horizontal wells  at different displacement pressure-drop conditions  are listed in Figs.On account of the non-Newtonian behavior of heavy oil, especially for the cases at low-temperature condition, the relation between displacement-pressure-drop and flow-rate is not a rigorous linearity.First, the composition of heavy oils, particularly the content of asphaltenes and resins, plays an important role for the flowing process of heavy crude oil, it is the leading cause of their high viscosity .\n",
      "The most advantageous viscosity change is seen to be associated with decreases in E compared to the feed whereas one would expect a lightening of the product to give higher values of E. In general, lower boiling points are associated with lower viscosity feeds, although one needs to take into account factors such as aromaticity and branching.Whereas many oil shales schemes require long term heat soaking to stimulate and simulate the maturation associated with traditional catagenesis, exploitation of the enhanced properties associated with near critical water indicate that judicious p, T operation would achieve this with shorter times and lower energy inputs.Ogunsola and Berkowitz  describe processing oil shales with \"sub\" critical water, however, this appears to refer only to pressures being subcritical--temperatures were all in excess of 400 degC so that there was no liquid/liquid mixing possible nor any beneficial potential from the generation of extra hydrogen or hydroxide ions identified above.This means that in the case of very heavy feeds where the viscosity measurements need to be carried out at higher temperatures , then the relative reduction in viscosity can to a first approximation be compared with the viscosity changes in other feeds whose viscosity was measured at lower temperatures .As the pressure and temperature increase, the spatial ordering between water molecules decreases because of the increase in kinetic energy and the dielectric constant of water fall enabling solution of organic components which it could not do at standard temperature and pressure .\n",
      "Value creating factors in this phase are production well planning, maintaining the rate of production and maximizing the life of the accumulation by injecting gas or water into specifically designed injector wells to maintain the pressure.Areas thought to contain hydrocarbons are initially subjected to a gravity survey, magnetic survey and regional seismic reflection surveys to detect large scale features of the sub-surface geology.Generation depends on three main factors, i.e., the presence of organic matter rich enough to yield hydrocarbons, adequate temperature and sufficient time to bring the source rock to maturity.Methods for forecasting crude oil production along with measures to increase production rate and managing reduction in costs associated with maintenance, system failure and leakage are crucial.One advantage of the decline curve analysis is that it generally applies independent of the size and shape of the reservoir or the actual drive-mechanism , avoiding the need for more detailed reservoir data.Some fields can also show complex behavior with several exponential decline phases or even production collapses, where the decline can be doubled in the end stage of the field life.Crucial factors for value creation in this phase include choosing the most cost-effective type of development and production activity and ensuring that the project can be completed on schedule.Findings are in accordance with the results established by Licentiate thesis Mikael Hook  Global Energy Systems, Department for Physics and Astronomy, Uppsala University, May 2009.\n",
      "For tight gas sands the major damage mechanism is fluid retention; the use of aqueous-based fluids causes fluid retention or phase trapping, poor proppant placement and proppant pack gel damage which can lead to severe impairment of gas productivity.Most ultra-tight gas sands fall into the classification of sub-normally saturated or desiccated reservoirs, this means that there is a huge amount of capillary pressure energy which needs to hold or imbibe a fluid in the porous media .The methodology used involves the following steps:  Carry out a detailed literature review of the major stimulation challenge facing ultra-tight gas sandstones as well as the fracture fluids currently employed in the industry.Other issues that affect the successful stimulation of ultra-tight gas formations include the damage on fracture conductivity packs when breakers are used to breakdown chemicals used in fracturing of ultra-tight gas sands .Unconventional fracturing fluids include viscoelastic surfactants fluids, viscoelastic surfactant foams, liquid CO2-based fluids, aqueous methanol-based fluids and gelled liquefied petroleum-based fluids.The future work direction for this research project will be to input fracture properties obtained from the fracture simulator into a finite difference simulator to assess the post-fracture well performances of each treatment design.In tight gas sandstones, extensive micro-seismic fracture mappings have shown that there is more fracture height confinement than is expected from conventional confining mechanisms such as stress barriers and permeability facies .\n",
      "The sequence stratigraphic tool has been widely used to correlate genetically related sedimentary successions bounded at top and base by unconformities or their strata patterns interpreted in response to interaction of eustatic change of sea level, compaction, sediment supply and tectonic subsidence .The comparison of the stable isotope data sets from different parts of the world with the data of present study shows that the samples plot within relatively low temperature zone which also confirms thermal subsidence that is evidence in the basin between Albian and Cenomanian .The opening of the South Atlantic is recorded by five main tectonic-stratigraphic sequences at the South African continental margin which are: the basin and range or pre-rift mega-sequence, the syn-rift I and II mega-sequence, the transitional and thermal sag mega-sequence  .Diagenetic evolution of siliciclastic deposit is complex and controlled by several inter-related factors which include: changes in detrital composition in particular extrabasinal and intrabasinal grains , pore water chemistry , residence time of sediment under certain geochemical conditions .Thin sections were prepared from core samples and subjected to petrographic analysis, X-ray diffraction , scanning electron microscopy/energy dispersive spectrometry  and stable isotope analysis of the samples were also carried out to reveal the conditions at deposition and post deposition in the basin.The sand bodies show hybrid unit consisting of a built up multi-serrate cylinder-shaped, upward fining, as well as upward coarsening units, probably of subaqueous channel and barrier bar deposits in shallow water setting.\n",
      "The plot of the CV data versus the log of Pr/Ph  shows a positive trend between the two parameters: high Pr/Ph ratios are associated with terrigenous oils having high values of CV; low Pr/Ph ratios are associated with marine oils along with low values of CV, indicating that terrigenous sources are more commonly oxidizing in comparison with marine sources before they are incorporated into thick sedimentary sections .The southwest of Iran constitutes one of the most prolific hydrocarbon producing habitats  with cumulative recoverable of 136 billionbarrels of oils including recent discoveries in the Kushk and Hosseinieh fields of Khuzestan province and 940 trillion cubic feet of associated and non-associated gas .Bordenave and Burwood  carried out the important and comprehensive research work on the distribution and maturation of oils in the Zagros basin using stable isotopes on oils from the Fahliyan and Surmeh reservoirs as well as the probable source rocks in the Dezful embayment.The mountain belt has been divided into NW-SE trending structural zones  parallel to the plate margin, separated by major fault zones such as the high Zagros and mountain front faults.The difference between the two equations of terrigenous and marine oils was evaluated statistically and a statistical parameter, CV , was used to distinguish between the marine and terrigenous oils.The imbricate belt situated between the high Zagros and Zagros main reverse faults, and simply folded belt lies to the southwest of the high Zagros fault .\n",
      "The aerial gravity survey leads to the delineation of 14 large closed anticlinal structures, comprising thick deltaic sedimentary succession of Neogene age with favorable geological prospect, viz., Rokhia, Tichna, Gojalia, Baramura, Tulamura, Atharamura, Batchia, Langtarai, Harargaj, Machlithum, Khubal, Skham, Langai, and Jampai anticlines .But this assumption is not valid at greater depths  as the linear relationship between propagation velocity and depth vanishes below 6,000 m.\n",
      "The predicted pore pressure from 6 CDPs in the synclinal section and 22 CDPs from the flank section of the Atharamura anticline were compared with offset well measured pore pressures and observed an excellent match between them .Table 1 shows that the prediction of pore pressure observed overpressured formation continues up to depth of 10,000 m, which is practically impossible as there are no sedimentary rocks that exist below the depth of 6,000 m. This is because the entire pore pressure prediction is based on the assumption that velocities have the linear relationship with depth.From the past, well-drilled data in the Tripura region, supper pressure regime below the middle Bhuban is confirmed, but not a single well is drilled in the deeper depths of the middle Bhuban due to well control problems.During seismic processing, seismic velocities used are designed in such a way that the stack/migration is optimum with local fluctuations being smoothed out and the velocity pick interval usually being too coarse for accurate pore pressure prediction.\n",
      "The experiment with experimental data reported in literature  has showed that the ICA-ANN model is successfully demonstrated on prediction of asphaltene precipitation also predictive performance of the proposed model is better than that of scaling model  and conventional ANN model.All those models consider asphaltene as a pure pseudo-component, but this assumption causes much deviation in the prediction of asphaltene phase behavior ; the second group of models is based on the scaling approach which explained separately.The proposed asphaltene precipitation prediction model may be combined with existing asphaltene precipitation modeling softwares to speed up their performance, reduce the uncertainty and increase their prediction and modeling capabilities.ANN model trained with back propagation network was trained by Levenberg-Marquardt using three parameters:  molecular weight,  dilution ratio, and  temperature as inputs.The first group consists of thermodynamic models, which need asphaltene properties such as density, molecular weight and solubility parameter for prediction of asphaltene phase behavior.The determination of network structure and parameters is very important; some evolutionary algorithms such as genetic algorithm  , back propagation  , pruning algorithm , simulated annealing  can be used for this determination.Recently, a new evolutionary algorithm has been proposed by Atashpaz-Gargari and Lucas  which has inspired from a socio-political evolution, called imperialist competitive algorithm .Artificial intelligence have been widely used and are gaining attention in petroleum engineering because of their ability to solve problems that previously were difficult or even impossible to solve.\n",
      "Sauki and Irawan  investigated the effect of pressure and temperature on well cement degradation by super-critical CO2 and concluded that compressive strength loss was greater at elevated temperature and pressure due to the formation of alpha-calcium silicate, and in CO2 environment due to formation of carbonation which gives temporary strength to the cement.For the preparation of cement slurry used for this study, 297 g of class G oil well cement was added to 447 ml of fresh water and blended using Waring Blender set at high speed for 35 s. The four additives identified in this study are: extender, accelerator, antifoam and dispersant.Arising from advantages of FD and the importance of additives in the performance of cement, this research aims at development of mathematical model to predict compressive strength using four different additives for improving compressive strength during cementing operation using factorial design.considered the effect of contemporary pressure and temperature changes in the early compressive strength of oil well class G cement and concluded that faster early-age compressive strength could lead to reduction in transition phase time .The UCA measures the delay time of an ultrasonic wave pulse that passed through the moulded cubic cement sample using set equations which converted velocity to uniaxial compressive strength and the values of all the compressive strengths were recorded.\n",
      "The Fetkovich method was improved upon by the introduction of two additional type curves, which were plotted concurrently with the normalized rate type curves: the rate integral function and derivative function, which help in smoothing the often noisy character of production data and in obtaining a more unique match .Based on the present study, the following conclusions may be drawn in the cases studied:\n",
      "The limitations of the Arps' hyperbolic decline model have been corrected by taking into cognizance the effect of well aggregation and interference in multi-well systems using high level reservoir data.The specific objectives of this paper are to:\n",
      "develop a model to estimate reserve and predict reservoir performance for multi-well reservoir system using production data analysis;\n",
      "demonstrate the applicability of the newly developed model by validating it with existing models and field data.Although the study of Arps  is completely empirical, its simplicity and the fact that it requires no knowledge of reservoir or well parameters make its use widespread in the upstream petroleum industry, particularly for production prediction and estimating reserves from production decline behavior.Also, the adverse effects of downtime experienced using a model that only relates the rate and time are reduced, because 'gaps' in the production data during periods of no production disappear when cumulative production is integrated in the developed modified hyperbolic model.\n",
      "Selection of a polymer gel system for a given well treatment strongly depends on the reservoir conditions such as temperature, salinity, hardness and the pH of the water used for preparation of the gelant; and some other parameters include salinity of the formation water, permeability of the target zone, and the lithology of the formation .Among several possible models, a quadratic model was found to be adequate for the prediction of the ESR which was given by the following equations:\n",
      "\n",
      "\n",
      "In these models, all variables are indicated through the coded values, where A is CaCl2 concentration and B is pH, and hence, AB is considered as the interaction of the main factors.PPGs have developed for the conformance control purposed with some suitable properties such as adjustable sizes, swelling ability in formation water, salt resistance, thermal stability, adjustable strength and slightly controlled swelling rate.DOF shows the total number of model terms, including intercept minus one while mean square estimates the model variance, calculated by the model sum of squares divided by model degrees of freedom.is shown in Table 3, where the mean square, sum of squares and model degree of freedom  terms are, respectively, defined as the estimation of the model variance, total of the sum of squares for the terms in the model and the number of model terms.\n",
      "These challenges include costs to transport chemicals, space for mixing facilities on platform, large well spacing, and reduced polymer viscosity when mixed with sea water.It is generally believed that polymer flooding cannot reduce the residual oil saturation, but it can help to reach residual oil saturation in shorter time .PDO estimated that by using polymer flooding it could raise the total percentage of oil recovered from the reservoir to the high 20 s or even low 30 s.\n",
      "\n",
      "Polymer flood will be more effective if applied early, when oil saturation is well above residual oil saturation.Even though laboratory research demonstrated the potential of polymer flood in recovering heavy oil, most oil companies are still reluctant to apply this technology in the field.Heavy oil widely exists in many basins around the world, especially in South America, North America and Middle East.Based on past experiences, polymer flood is recommended for oil viscosity less than 100 cP under reservoir temperature, and sandstone reservoir with oil saturation higher than 30%, reservoir permeability greater than 20 mD, net thickness more than 3 m , and reservoir temperature less than 90degC or 200degF .The field experiences in China showed that polymer flood was cheaper than water flood, due to increased oil output and reduced costs in water injection and treatment .The first small-scale polymer flood pilot took place between 1986 and 1988, with one injector well and four producing Wells.\n",
      "For example, Triassic Mandapeta formation, Late Jurassic Gollapalli formation, Early Cretaceous Raghavapuram formation, Late Cretaceous Tirupati formation, Eocene Pasarlapudi formation, Eocene-Oligocene-Miocene Matsyapuri formation/Ravva formation and Pliocene Godavari clay formations, all know to be rich in hydrocarbons .This instrument uses a ramped temperature pyrolysis technique, whereby a small amount of sample  is heated in an inert atmosphere  and also combusted with air to obtain several key geochemical parameters relating to the hydrocarbon potential of the rock such as the total organic carbon , type or quality of organic matter and maturity level .This is also confirmed by visual kerogen typing analysis, which was performed on all samples interval 4,070-5,050 m  comprise mainly medium dark grey to olive grey claystones and medium dark grey to dark grey shales.Hence, the rapid increase in vitrinite reflectivity within the interval 2,673-3,492 m is thought to be associated with a significant unconformity which occurs at depth c. 2,675 m.\n",
      "\n",
      "The argillaceous sediments analyzed throughout the sequence  display variably very low to good organic richness .Among three sedimentary basins, Krishna-Godavari  basin located between the major rivers Krishna and the Godavari and also extending offshore, has attracted many oil and gas companies due to its richness in hydrocarbon potential.\n",
      "The electric double layer is always formed at any interface by the unequal distribution of electrical charges between two phases which causes one side of the interface to acquire a net charge of a particular sign and the other side to acquire a net charge of the opposite sign, giving rise to a potential across the interface.Surfactant adsorption at solid/liquid interface is a multifaceted phenomenon; therefore, the driving force for adsorption involves a combination of electrostatic, chemical, lateral chain-chain associative interaction, hydrogen bonding and de-solvation of adsorbate species .The phenomena by which surfactant molecules adsorb onto the solid surface from an aqueous solution involve single ions, ion exchange, ion pairing, hydrophobic bonding, p electrons polarization and dispersion forces.It can also act as a sacrificial agent resulting in the decreased adsorption because it consumes the multivalent cations which would otherwise precipitate with surfactants and cause plugging in rock pores thereby reducing permeability .The consistent perturbations of the surfactant monolayers caused by the high kinetic energy resist the formations of any organized layer of surfactants molecules and subsequently lead to the low adsorption at high temperatures.However, the surfactant adsorption is a complex process and it depends on various characteristics of aqueous solution such as pH, salinity, temperature, ionic strength, divalent ions and in addition the type, concentration and composition of the surfactants involved .\n",
      "Along the same line, Tobenna Okeke and Lane  used a numerical simulator to model the potential effectiveness and performance of deep diverting gels  to plug thief zones deep within the reservoir by considering a wide range of reservoir characteristics and conditions.So, to design the treatment based on a realistic temperatures rather than a bottom hole temperature,  used temperature simulations to predict temperature near wellbore during water shutoff treatments and optimize treatment placement rates, fluid composition and shut-in times.presented the first 3D, three phase, four component, pseudo-compositional, non-isothermal coupled reservoir/wellbore simulator that incorporates all these mechanisms through a rigorous tracking of all fluid concentrations during injection, shut-in and finally back flow of the fluids.In addition, this powerful aspect of streamlines visualization, with the help of the quantitative flow indicators, can assist in identifying fluid loss to wells outside a pattern and then balancing different patterns using well allocation factors  between injectors and producers.Even though re-completing the producer was a permanent remedial action, the barrier fracture placed deep in the reservoir gave much better results in terms of increasing oil recovery  and reducing water production .for attaining a better idea about the different advantages of streamlines technology and also the wide range of petroleum engineering applications that symbolize the relevance and validity of streamline simulation in addressing reservoir engineering concerns.\n",
      "ascal 240 and 440 high-pressure porosimeters were used in this study to quantify the porosity of well cement during hydration based on the capillary law governing liquid penetration into small pores as functions of surface and interfacial liquid tensions, pore-throat size and shape, and wetting properties of sample.This can be expressed in the following form by Washburn  where P c is the capillary pressure , g the surface tension of Hg , th the contact angle between mercury and cement pore wall [140deg was assumed ], and r is the radius of pore-throat aperture for a cylindrical pore .Hence, an accurate evaluation and estimation on appropriate cement strength becomes considerably important to reduce cost expenditure, particularly at the early ages when the physical and mechanical properties of well cement significantly change with times.It is directly related to the drilling cost per hour with a longer waiting time which will pose extra cost, and shorter waiting time may contribute to cement failure due to imperfect setting time of cement.From the values of porosities predicted using Archie's equation as described in the previous section, the strengths of Class G cement could be predicted using the modified model of Hasselman equation as follows where S is the strength, S o the strength at zero porosity, b the empirical constant, s b the bulk conductivity, s o the pore solution conductivity, and m is the cementation factor.\n",
      "By inspection of the gas and water production plots corresponding to the moving completion versus the fixed completion location of Case 1, it is clear that production efficiency could be improved by moving well-completion location in relation with the movement of the interface between hydrate and free-gas zones.Even though hydrate dissociation takes place not only at the interface but also inside hydrate zone, hydration dissociation taking place at the interface is faster due to higher pressure drop and higher temperature at the interface.The effects of some production parameters on the production performances are also examined and the following conclusions can be drawn:\n",
      "The presence of gas hydrate on top of a conventional gas reservoir can dramatically improve gas productivity.More produced gas comes from higher dissociation rate at the interface between hydrate and free gas zones which is caused by higher pressure reduction rate in the free gas zone in smaller well-spacing systems.However, it does not imply that the gas-hydrate reservoir yields higher gas recovery because there is more gas available in the methane-hydrate reservoir , since the two systems have the same amount of free gas at initial condition.In this work, the effects of different production parameters such as well-completion location, well spacing, and production schedule on the production efficiency are investigated to gain more understanding about gas production from class 1 gas-hydrate reservoirs.\n",
      "The cationic gel particles have been screened to be used in this study; different cross-linking concentrations have different pressurization and production increasing effect, and the higher the cross-linking concentration is, the better the production performance is; the surfactant has a good depressurization and production enhanced effect and the 0.2 % is the best concentration.The effect of polymer flooding is limited due to the following reasons: Firstly, the heterogeneity is aggravated during the polymer flooding process, in which the water and polymer fingering phenomena happens along thief zones and high permeability streak resulting in low sweep efficiency.The cross-linking agent cannot only form the cross-linking polymer with the residual polymer in large throats but also penetrate into small throats with low permeability which blocks the flow path to force the water flow into throats with lower permeability.In consideration of the abundant remaining polymer in the reservoir after polymer flooding, the cross-linking agent can be injected to react with the residual polymer to form the gel, which can block high permeability zone and activate the medium-low permeability zone.The results show that the recovery factors of water and polymer flooding for cation and anion are nearly same, but the recovery factor of cationic gel particle is eight percents higher than anion after profile control displacement stage.5 that the recovery factors of water flooding and polymer flooding are limited and the recovery factors increase in various degrees at the cationic gel particle, cross-linking agent and surfactant injection stages.\n",
      "concluded, using the two-dimensional discrete element method , that the angle of repose is greatly influenced by the friction coefficient and rolling friction values, but the impact of elemental radius and gravity is very small.Our results may not be used to calculate the angle in the case of high Reynolds number, cohesive sediment and irregular sediment, however, it lays a theoretical foundation for further study on the dynamics angle of repose below the submarine pipeline.Based on the results presented above, the following conclusions can be drawn:\n",
      "\n",
      "The bottom velocity in the deepest point of scour hole without and with the spoiler and gap was discussed by experimental study.It can be seen that the scour depth increased significantly as the spoiler height and incoming flow velocity increased ; besides, the deepest point of the scour hole moved further downstream.Jin and Shi  conducted physical model studies to explore the effect of the diameter and roughness of sediment on the angle of repose and obtained the formulas for different types of sediment.Nevertheless, due to the pipeline's suspending caused by local sour, the slippage may exist and induce the accidents of pipe destruction.This paper investigated the variations of bottom velocity and the dynamic angle of repose under various pipe sizes, spoiler heights, and gap-ratios.This paper investigates the formulas of dynamic repose angle in the scour hole for a pipe with spoiler and various gap-ratios.\n",
      "The minimum interfacial tension value was 2.45 x 10-4 mN/m, when the surfactant concentration was 0.015 % KPS + 0.015 % hexadecylbenzene sulfonate; the mixed surfactant system could lower the oil/water interfacial tension to ultra low even when the total concentration of surfactant is 0.015 % .However, in view of the effect of adsorption, the surfactant mixture that contained 0.025 % KPS + 0.025 % hexadecylbenzene sulfonate was used as oil displacement agent.1 where the adsorption at 1,199, 1,044, 1,013, and 609 cm-1 are the characteristic peaks of the sulfonic group; the adsorption at 721 cm-1 refers to stretching vibration of the C- n-C ; the adsorption at 2,924 and 2,854 cm-1 refer to stretching vibration of the methylene; the adsorption at 1,462 and 1,602 cm-1 are due to the stretching vibration of benzene skeleton, peaks at 837 and 690 cm-1 are assigned to a p-substituted benzene ring vibration.In order to drive them out, the capillary number should be maximized by either increasing viscosity or reducing interfacial tension ; it was found that the residual oil saturation might be close to zero, if the interfacial tension between oil and water was reduced to ultra low  .This is because the dissolved oxygen in the surfactant-polymer solution accelerated thermal degradation of the polymer, which results in loss of viscosity, thus, which speeds up the transfer rate at the interface and shortens the time that needs to reach the ultra-low values.\n",
      "Alkhalifah and Tsvankin  demonstrated that, for TI media with vertical symmetry axis  and mild lateral inhomogeneity, just two parameters are sufficient for performing all time-related processing, such as normal moveout  correction , dip-moveout  correction, and prestack and poststack time migration in a homogeneous medium.Residual post-stack migration operators can be obtained by generating synthetic data for a model consisting of diffractors for given medium parameters and then migrating the same data with different medium parameters.Because we are only considering time sections, and for the sake of simplicity, we denote vnmo by v. Thus, time processing in VTI media, depends on two parameters , whereas in isotropic media only v counts.Despite the inherent accuracy of the synthetic operators, they suffer from the lack of aperture in modeling the diffractions, and therefore, beyond a certain angle the operators vanish and start to deviate.One of these two parameters, the short-spread NMO velocity for a horizontal reflector, is given by where vv is the vertical P-wave velocity, and d is one of Thomsen's anisotropy parameters .Despite the fact that we have considered the simple case of post-stack migration separately, the exact kinematic equations describing the continuation process are anything, but simple.Throughout this paper, we use these simplified, yet accurate with respect to conventional data processing objectives, equations, based on setting VS0 = 0, to derive the continuation equations.\n",
      "The influence of the inhibitor on precipitation reaction may be explained in terms of three effects:  direct complexation of sodium acrylate with crystal lattice ions in solution;  adsorption of sodium acrylate on the crystal surface or at the active growth sites;  sodium acrylate may change the ionic strength of the solution and hence increasing the effective solubilities of the calcium and magnesium ions in brine solution .When the acid is added to injection water that contains large quantities of divalent metal cations, the acrylic acid reacts with the sodium ion to form sodium acrylate with an excess amount of acrylic acid.On the basis of the results obtained from this study, the following conclusions are drawn:\n",
      "\n",
      "Alkali-brine and surfactant-brine interactions showed that sodium carbonate and AOS were incompatible with the synthetic brine used in this study.This is due to the fact that hard brine or formation water having high hardness concentration leads to unfavourable solid precipitations and thus reducing the ASP efficiency.In the ASP process, alkali is added to react with the acidic components in crude oil to form an internal surfactant and also to increases the pH to lower surfactant adsorption .At low acid concentration , the IFT reached an ultra-low IFT value, whereas, a slight increase in the IFT is observed when the acid concentration increased.\n",
      "The effects of surface roughness on relative permeability to oil and water were more pronounced for smaller fracture aperture and at higher pressure gradient, i.e., the relative permeabilities and flow patterns observed in the rough-walled fracture with larger aperture were similar to the ones observed with the smooth-walled fracture.Despite of the fact that steady-state oil saturation in two phase flow is not a direct function of capillary number, capillary numbers from this smooth-walled fractures suggest that lowest oil saturation can be attained by increasing the water to oil flow rate ratios .In two-phase flow in smooth-walled fracture, the capillary forces play a smaller role than viscous forces, especially at larger fracture apertures and/or higher flow rates and at low saturations of either phase where the interfacial area is relatively small.Two pressure taps were drilled in the bottom plate connected to the pressure transducer; the tap closer to the injection ports was connected to the \"high\" side of the transducer whereas the tap at the far end was connected to the \"low\" side of the transducer.The imbibition process, where the wetting phase saturation increases, was started after the drainage measurements had been completed; the flow rate ratios traversed back to the starting two-phase flow rate ratio of 10:1; Table 4 summarizes the each process parameters.\n",
      "Although frictional slip along faults control fracture orientations , seismic cycle , quantitative and spatial slip distribution along faults , and frictional slip along bedding planes affect faults and fractures propagation, current 3D models solve for frictionless faults as computation using frictional sliding along contacts is hard to be implemented .Researches previously conducted using similar approaches concentrated on calculating in situ stresses , mapping the effect of lithology and faults characteristics on stress distribution around fault tips , relating displacement of strata to fault geometry and loading conditions , and applying stress inversion on specific case studies to understand the tectonic history .The calculated magnitudes of the three principal stresses in the Moomba-Big Lake fields resulted that Shmax was found to be the maximum principal stress and the magnitude of the vertical stress was found to be greater than the minimum horizontal stress, thus, a strike-slip stress regime  dominates the field .Following the deposition of the Cambrian-Ordovician sequences of the eastern Warburton Basin underlying the Cooper Basin, NW-SE compression caused a partial inversion of the Warburton Basin, deformation of the pre-existing sequence and the subsequent intrusion of Middle to Late Carboniferous granites .Most of these wells contain wireline logs, seven contain image logs, and a large number of wells have recorded drill stem tests , repeated formation tests , leak off tests , and hydraulic fracture tests mostly for Patchawarra and Toolachee formations.\n",
      "These alternative methods include VAPEX , toe-to-heel in situ combustion , toe-to-heel steam flooding , toe-to-heel waterflooding , surfactant-based chemical flooding in the presence and absence of polymer and alkali , low-rate waterflooding , variable-rate waterflooding , immiscible CO2 flood , and water-alternating-CO2 injection .18, for oil A and with the given reservoir characteristics, the optimal vertical spacing between the wells was 6-7 m. This relatively wide spacing is possible since the oil is not very viscous , as compared to some heavy oils with viscosities in the order of 105 mPa s.\n",
      "\n",
      "It is necessary to test the applicability of a CO2-based VAPEX to oil with higher viscosity than oil A.As demonstrated in \"General results of simulation: predicting essential features of the VAPEX process\", as a result of including LGR in the vertical cross-section, the vapour chamber in the simulation is well developed with relatively smooth edges and the expected shape, according to the original theory.Thus, we decided to vary the vertical well spacing in our simulation model over the range of 3-8 m.\n",
      "\n",
      "To examine how the composition of the oil affects the performance of the CO2 VAPEX process, a second WinProp model was created for a different oil composition.The greatest oil-recovery factors were achieved with a vertical distance between the production and injection wells of 6-7 m. This relatively large spacing was made possible by the homogenous properties of the reservoir and the moderate viscosity of the oil used in the simulation.\n",
      "Based on Tiffin method and Bennett method , Schlumberger company summarizes well open hole completion sand control design method of the offshore horizontal according to the implementation experiences of four field completion engineers, as described below:  no matter deep or shallow water, when the well design lifetime is longer than the time of pore pressure failure in rocks that causes rock particles stress to increase, the gravel packing completion can be used in sand control.This set of experiment device can do the evaluating experiment of wellbore oil and sand radius flow regulations under confining pressure and can do better evaluation of screen performance from the integral view, because it's undertaking with a full-size sand control pipe and simulates stable reservoir producing conditions using diaphragm pump, safety valve and a series of devices.This set of device including five parts: oil and sand mixing system, pressure and liquid supply circulation system, sand producing simulation device, oil and sand simulation system, data auto-acquisition system .Moreover, due to the low cost of slotted screen and WWS, this paper was working on a ladder-shaped opening model to fit the outer protective layer, with a = 0.3 mm accuracy, and every wire is welded to form an entity by metal bars.Such as, Tiffin  introduced two new parameters in sand control with the sand particle size distribution: sorting characteristics  and fine particles , and the gravel packing completion was used in the formation of high fine particles content.\n",
      "Based on the research works accomplished on polymer beads in water-based mud as a lubricating agent, several conclusions could be framed out accordingly:\n",
      "\n",
      "Polymer beads constructed were compatible for high-temperature condition since it could sustain until 450 degC.The main focus of this research study was to evaluate the lubricity among water-based mud, oil-based mud, water-based mud with glass beads, and water-based mud with polymer beads in high-temperature conditions.But, water-based mud plus glass beads, water-based mud plus polymer beads, and basic water-based mud increased in yield point up to 100 degC only and experienced decrease as temperature increased from 100 degC until 180 degC.Despite the slight fluctuation in value of plastic viscosity, it still shows a good agreement with 'Scomi Oiltools' recommended 20 cp of plastic viscosity value\n",
      "Figure 7 shows the plastic viscosity of the tested mud at different elevated temperatures.Even though the performance of this type of drilling fluid is not as encouraging as oil-based mud in reducing torque and drag, an addition of the additive would mitigate the torque and drag problem .Four different drilling muds were used in this study: water-based mud, oil-based mud, water-based mud with polymer, and water-based mud with glass beads.A similar trend was achieved at room temperature where water-based mud produced the thickest mud cake while oil-based mud gave the thinnest mud cake.\n",
      "1 that with the increase of aluminosilicate ion concentration in three kinds of simulation water before reaction, the scaling number of silicon ions increases, indicating that the greater the concentration of aluminosilicate ions in solution before reaction, the more severe the scaling; it can also be seen that with the same Si-Al ion concentration, the order of silicon ion scaling amount in the three kinds of analog water is: injected water < formation water < produced water, so produced water is easy to scale than the other two kinds of water.This is because the saturated solubility of silicon ions increases with the increase of pH value, but when the pH is higher, the precipitation trends of calcium and magnesium ions are enhanced in the solution, and calcium and magnesium ions precipitates will become the cores of silica scale deposition to promote the formation of silica scale and reduce the starting concentration of silicon ion scaling.Under the conditions of 45 degC reaction temperature and pH 11.5, with the concentration  of silicon ions kept constant, the influence of the proportion of Si ions to Al ions on scaling was investigated by respectively simulating injection water, formation water and produced water and changing the ratio of aluminum ions to silicon ions in the water samples.\n",
      "Wave extrapolation methods have several known advantages in comparison with direct methods such as Kirchhoff migration thanks to their ability to handle multi-pathing, strong velocity heterogeneities, and finite-bandwidth wave-propagation effects .The most important new theoretical developments are the ability to extract angle information from time-shift angle gathers , the ability to extract not only reflection-angle but also azimuth information , and the extension of the angle-gather theory to anisotropy .By the end of 2000s, prestack 3-D reverse-time migration has become a standard tool for depth imaging in structurally-complex areas, and it is becoming feasible to generate 3-D angle gathers as part of routine processing .In the first approach, one generates gathers at each depth level converting offset-space-frequency planes into angle-space planes simultaneously with applying the imaging condition.Stolk and de Hoop  assert that angle gathers generated with wavefield extrapolation are genuinely free of artifacts documented for Kirchhoff-generated angle gathers .Angle gathers facilitate velocity analysis  and can be used in principle for extracting angle-dependent reflectivity information directly at the target reflectors .As a result, the angle-domain information becomes structure-dependent: the output depends not only on the scattering angle but also on the structural dip.In the second approach, one converts migrated images in offset-depth domain to angle-depth gathers after imaging of all depth levels is completed.Since the first presentation of the 3-D angle-gather theory , many new research results have appeared in the literature.\n",
      "However, the saturation exponent n varies greatly from the common value of 2 in strongly water wet reservoir rocks to more than 20 in strongly oil wet reservoir rocks and sometimes the resistivity index  curves become nonlinear in log-log scale.This paper presents the results of the application of three techniques to determine Archie's parameters:  three-dimensional regression  technique, which is based on the analytical expression of three dimension plot of Rt/Rw versus Sw and ph,  core Archie's parameters estimate  and  conventional technique.Accuracy water saturation values rely on the uncertainty of Archie's parameters used either in Archie saturation equation in clean formation or in a shaly sand water saturation model in shaly formation .Figure 3 shows mercury pressure curves and pore size distribution of four samples; samples 5 and 12 are both foraminiferal grainstone represented by similar mercury injection curves and pore throat size histograms.Carbonates are characterized by different types of porosity and other complex pore size distributions, which result in wide permeability variations for the same porosity, making it difficult to predict their producibility.Although four-pole resistivities were used for determining the electrical parameters, two-pole resistivities were also recorded for monitoring the contact problems that might have occurred.\n",
      "For field applications, partially hydrolyzed polyacrylamide  is the most widely used polymer, due to its relatively cheap price and good solubility in water.Because oil viscosity can be much higher than water viscosity, injected water moves faster than oil, leaving oil behind.However, polymer often suffers from viscosity loss due to shearing, heat and salinity that exist in wellbore and reservoir .Polymer increases the viscosity of injected water, reduces water mobility, and therefore achieves a more stable displacement .All tests were conducted at the relatively low temperature of 30@ C. The second group of tests was conducted to study the effect of high temperature on polymer viscosity.But in a recent article, some researchers argue that shearing has a very slight effect on flow of HPAM in real reservoir .During oil production, water is often injected into reservoirs to sweep oil into the production well.For the Daqing oil field in China, polymer flooding has contributed to more than 10 % of enhanced oil recovery .In this section, effort is spent on studying the numerical relations between the power law parameters, polymer concentration and temperature.Salinity also greatly impacts HPAM viscosity , but the salinity effect is not covered in this paper.On the other hand, the flow behavior index n decreases with increasing polymer concentration, and only slightly increases at higher temperature.This paper studies these phenomena through laboratory testing and builds correlations for viscosity of HPAM solution.\n"
     ]
    }
   ],
   "source": [
    "filenames = []\n",
    "abstracts = []\n",
    "for i in results:\n",
    "    abstracts.append(i[0])\n",
    "    print(i[0])\n",
    "    filenames.append(i[1])\n",
    "results_df = pd.DataFrame({'filename': filenames, 'abstracts': abstracts})"
   ]
  },
  {
   "cell_type": "code",
   "execution_count": null,
   "metadata": {},
   "outputs": [],
   "source": [
    "results_df.to_pickle('/home/joao/Thesis/FGB/test_results.p')"
   ]
  },
  {
   "cell_type": "markdown",
   "metadata": {},
   "source": [
    "# Final Scoring\n"
   ]
  },
  {
   "cell_type": "code",
   "execution_count": 12,
   "metadata": {},
   "outputs": [
    {
     "name": "stderr",
     "output_type": "stream",
     "text": [
      "100%|██████████| 69/69 [00:02<00:00, 26.03it/s]\n"
     ]
    }
   ],
   "source": [
    "from rouge import Rouge, FilesRouge\n",
    "import pandas as pd\n",
    "import glob\n",
    "from tqdm import tqdm\n",
    "import numpy as np\n",
    "from unidecode import unidecode\n",
    "\n",
    "\n",
    "def remove_non_ascii(text):\n",
    "    \"\"\"This function removes all non-ascii characters from text and \n",
    "    replaces them with their closest ascii representation\"\"\"\n",
    "    return unidecode(unicode(text, encoding=\"utf-8\"))\n",
    "\n",
    "\n",
    "# we then load all summaries and candidate summaries:\n",
    "\n",
    "scores = []\n",
    "r1 = []\n",
    "r2 = []\n",
    "rl = []\n",
    "for i in tqdm(results_df.index):\n",
    "    ground_truth = '/home/joao/Thesis/test_set/abstracts/ground_truths/' + results_df.loc[\n",
    "        i, 'filename'][:-2] + '.txt'\n",
    "    rouge = Rouge()\n",
    "    with open(ground_truth, 'rb') as f:\n",
    "        ground_truth = f.read()\n",
    "    ground_truth = remove_non_ascii(ground_truth)\n",
    "    tmp_scores = rouge.get_scores(\n",
    "        results_df.loc[i, 'abstracts'], ground_truth, avg=True)\n",
    "    r2.append(tmp_scores['rouge-2']['f'])\n",
    "    r1.append(tmp_scores['rouge-1']['f'])\n",
    "    rl.append(tmp_scores['rouge-l']['f'])"
   ]
  },
  {
   "cell_type": "code",
   "execution_count": 13,
   "metadata": {},
   "outputs": [
    {
     "name": "stdout",
     "output_type": "stream",
     "text": [
      "('r1', 0.29537356448505414, 0.06992150949842404)\n",
      "('r2', 0.0895225750913528, 0.05255140502428644)\n",
      "('rl', 0.24191560532018608, 0.06727625101821061)\n"
     ]
    }
   ],
   "source": [
    "print('r1', np.mean(r1), np.std(r1, ddof=1))\n",
    "print('r2', np.mean(r2), np.std(r2, ddof=1))\n",
    "print('rl', np.mean(rl), np.std(rl, ddof=1))"
   ]
  },
  {
   "cell_type": "markdown",
   "metadata": {},
   "source": [
    "('r1', 0.30312526276606727, 0.07163665233160144)\n",
    "\n",
    "\n",
    "('r2', 0.09337161516075211, 0.05010419600100166)\n",
    "\n",
    "\n",
    "('rl', 0.2496758504003376, 0.06976648365116518)\n"
   ]
  },
  {
   "cell_type": "code",
   "execution_count": null,
   "metadata": {},
   "outputs": [],
   "source": []
  }
 ],
 "metadata": {
  "kernelspec": {
   "display_name": "Python 2",
   "language": "python",
   "name": "python2"
  },
  "language_info": {
   "codemirror_mode": {
    "name": "ipython",
    "version": 2
   },
   "file_extension": ".py",
   "mimetype": "text/x-python",
   "name": "python",
   "nbconvert_exporter": "python",
   "pygments_lexer": "ipython2",
   "version": "2.7.12"
  },
  "toc": {
   "base_numbering": 1,
   "nav_menu": {},
   "number_sections": true,
   "sideBar": true,
   "skip_h1_title": false,
   "title_cell": "Table of Contents",
   "title_sidebar": "Contents",
   "toc_cell": false,
   "toc_position": {},
   "toc_section_display": true,
   "toc_window_display": false
  }
 },
 "nbformat": 4,
 "nbformat_minor": 2
}
